{
  "cells": [
    {
      "cell_type": "markdown",
      "metadata": {
        "id": "view-in-github",
        "colab_type": "text"
      },
      "source": [
        "<a href=\"https://colab.research.google.com/github/vowkvns/class_4aidl/blob/main/week6/chapter05_fundamentals_of_ml_i%EC%9D%98_%EC%82%AC%EB%B3%B8.ipynb\" target=\"_parent\"><img src=\"https://colab.research.google.com/assets/colab-badge.svg\" alt=\"Open In Colab\"/></a>"
      ]
    },
    {
      "cell_type": "markdown",
      "metadata": {
        "id": "YuCVeSUWRubL"
      },
      "source": [
        "This is a companion notebook for the book [Deep Learning with Python, Second Edition](https://www.manning.com/books/deep-learning-with-python-second-edition?a_aid=keras&a_bid=76564dff). For readability, it only contains runnable code blocks and section titles, and omits everything else in the book: text paragraphs, figures, and pseudocode.\n",
        "\n",
        "**If you want to be able to follow what's going on, I recommend reading the notebook side by side with your copy of the book.**\n",
        "\n",
        "This notebook was generated for TensorFlow 2.6."
      ]
    },
    {
      "cell_type": "markdown",
      "metadata": {
        "id": "sJY0Ju-oRubO"
      },
      "source": [
        "# Fundamentals of machine learning"
      ]
    },
    {
      "cell_type": "markdown",
      "metadata": {
        "id": "Fb4xoW0fRubP"
      },
      "source": [
        "## Generalization: The goal of machine learning"
      ]
    },
    {
      "cell_type": "markdown",
      "metadata": {
        "id": "uPtqA7IqRubP"
      },
      "source": [
        "### Underfitting and overfitting"
      ]
    },
    {
      "cell_type": "markdown",
      "metadata": {
        "id": "_4vc_sX8RubP"
      },
      "source": [
        "#### Noisy training data"
      ]
    },
    {
      "cell_type": "markdown",
      "metadata": {
        "id": "UFj5Yk3rRubQ"
      },
      "source": [
        "#### Ambiguous features"
      ]
    },
    {
      "cell_type": "markdown",
      "metadata": {
        "id": "uPBRdlUtRubQ"
      },
      "source": [
        "#### Rare features and spurious correlations"
      ]
    },
    {
      "cell_type": "markdown",
      "metadata": {
        "id": "wCh9kRYeRubQ"
      },
      "source": [
        "**Adding white-noise channels or all-zeros channels to MNIST**"
      ]
    },
    {
      "cell_type": "code",
      "execution_count": 2,
      "metadata": {
        "id": "6ZzF7enRRubR"
      },
      "outputs": [],
      "source": [
        "from tensorflow.keras.datasets import mnist\n",
        "import numpy as np\n",
        "\n",
        "(train_images, train_labels), _ = mnist.load_data()\n",
        "train_images = train_images.reshape((60000, 28 * 28))\n",
        "train_images = train_images.astype(\"float32\") / 255\n",
        "\n",
        "train_images_with_noise_channels = np.concatenate(\n",
        "    [train_images, np.random.random((len(train_images), 784))], axis=1)\n",
        "\n",
        "train_images_with_zeros_channels = np.concatenate(\n",
        "    [train_images, np.zeros((len(train_images), 784))], axis=1)"
      ]
    },
    {
      "cell_type": "code",
      "source": [
        "import numpy as np"
      ],
      "metadata": {
        "id": "KT4tplDHSDq2"
      },
      "execution_count": null,
      "outputs": []
    },
    {
      "cell_type": "code",
      "source": [
        "train_images.shape"
      ],
      "metadata": {
        "id": "l3fkD8WlRyhH",
        "outputId": "390c457d-f523-405a-a414-f5ae4fa9b48c",
        "colab": {
          "base_uri": "https://localhost:8080/"
        }
      },
      "execution_count": null,
      "outputs": [
        {
          "output_type": "execute_result",
          "data": {
            "text/plain": [
              "(60000, 784)"
            ]
          },
          "metadata": {},
          "execution_count": 15
        }
      ]
    },
    {
      "cell_type": "code",
      "source": [
        "np.random.random((len(train_images), 784)).shape"
      ],
      "metadata": {
        "id": "Qw6AA7IFR49O",
        "outputId": "f8a1507d-abf4-4830-dee6-d23ef154737f",
        "colab": {
          "base_uri": "https://localhost:8080/"
        }
      },
      "execution_count": null,
      "outputs": [
        {
          "output_type": "execute_result",
          "data": {
            "text/plain": [
              "(60000, 784)"
            ]
          },
          "metadata": {},
          "execution_count": 5
        }
      ]
    },
    {
      "cell_type": "code",
      "source": [
        "np.concatenate(\n",
        "    [train_images, np.zeros((len(train_images), 784))], axis=1)"
      ],
      "metadata": {
        "id": "oZWXKN3bSTHs",
        "outputId": "33376553-9819-43c5-8413-8120d1d75488",
        "colab": {
          "base_uri": "https://localhost:8080/"
        }
      },
      "execution_count": null,
      "outputs": [
        {
          "output_type": "execute_result",
          "data": {
            "text/plain": [
              "array([[0., 0., 0., ..., 0., 0., 0.],\n",
              "       [0., 0., 0., ..., 0., 0., 0.],\n",
              "       [0., 0., 0., ..., 0., 0., 0.],\n",
              "       ...,\n",
              "       [0., 0., 0., ..., 0., 0., 0.],\n",
              "       [0., 0., 0., ..., 0., 0., 0.],\n",
              "       [0., 0., 0., ..., 0., 0., 0.]])"
            ]
          },
          "metadata": {},
          "execution_count": 6
        }
      ]
    },
    {
      "cell_type": "markdown",
      "metadata": {
        "id": "PVP-5ZjzRubS"
      },
      "source": [
        "**Training the same model on MNIST data with noise channels or all-zero channels**"
      ]
    },
    {
      "cell_type": "code",
      "execution_count": 3,
      "metadata": {
        "id": "xLR3-H9WRubT",
        "outputId": "a7cd1782-7a59-40fa-a71a-5bd1794f5ec4",
        "colab": {
          "base_uri": "https://localhost:8080/"
        }
      },
      "outputs": [
        {
          "output_type": "stream",
          "name": "stdout",
          "text": [
            "Epoch 1/10\n",
            "375/375 [==============================] - 6s 4ms/step - loss: 0.6208 - accuracy: 0.8099 - val_loss: 0.2551 - val_accuracy: 0.9241\n",
            "Epoch 2/10\n",
            "375/375 [==============================] - 1s 3ms/step - loss: 0.2547 - accuracy: 0.9226 - val_loss: 0.1848 - val_accuracy: 0.9446\n",
            "Epoch 3/10\n",
            "375/375 [==============================] - 1s 3ms/step - loss: 0.1689 - accuracy: 0.9486 - val_loss: 0.1777 - val_accuracy: 0.9464\n",
            "Epoch 4/10\n",
            "375/375 [==============================] - 2s 5ms/step - loss: 0.1205 - accuracy: 0.9630 - val_loss: 0.1510 - val_accuracy: 0.9545\n",
            "Epoch 5/10\n",
            "375/375 [==============================] - 2s 5ms/step - loss: 0.0892 - accuracy: 0.9720 - val_loss: 0.1316 - val_accuracy: 0.9618\n",
            "Epoch 6/10\n",
            "375/375 [==============================] - 1s 4ms/step - loss: 0.0654 - accuracy: 0.9791 - val_loss: 0.1402 - val_accuracy: 0.9607\n",
            "Epoch 7/10\n",
            "375/375 [==============================] - 1s 3ms/step - loss: 0.0471 - accuracy: 0.9857 - val_loss: 0.1671 - val_accuracy: 0.9517\n",
            "Epoch 8/10\n",
            "375/375 [==============================] - 1s 3ms/step - loss: 0.0358 - accuracy: 0.9892 - val_loss: 0.1171 - val_accuracy: 0.9678\n",
            "Epoch 9/10\n",
            "375/375 [==============================] - 1s 3ms/step - loss: 0.0256 - accuracy: 0.9923 - val_loss: 0.1384 - val_accuracy: 0.9631\n",
            "Epoch 10/10\n",
            "375/375 [==============================] - 1s 3ms/step - loss: 0.0189 - accuracy: 0.9941 - val_loss: 0.1461 - val_accuracy: 0.9616\n",
            "Epoch 1/10\n",
            "375/375 [==============================] - 3s 5ms/step - loss: 0.2967 - accuracy: 0.9139 - val_loss: 0.1773 - val_accuracy: 0.9457\n",
            "Epoch 2/10\n",
            "375/375 [==============================] - 1s 4ms/step - loss: 0.1248 - accuracy: 0.9630 - val_loss: 0.1178 - val_accuracy: 0.9652\n",
            "Epoch 3/10\n",
            "375/375 [==============================] - 1s 3ms/step - loss: 0.0826 - accuracy: 0.9763 - val_loss: 0.0957 - val_accuracy: 0.9706\n",
            "Epoch 4/10\n",
            "375/375 [==============================] - 1s 4ms/step - loss: 0.0598 - accuracy: 0.9827 - val_loss: 0.0837 - val_accuracy: 0.9749\n",
            "Epoch 5/10\n",
            "375/375 [==============================] - 1s 3ms/step - loss: 0.0445 - accuracy: 0.9872 - val_loss: 0.0797 - val_accuracy: 0.9762\n",
            "Epoch 6/10\n",
            "375/375 [==============================] - 1s 4ms/step - loss: 0.0339 - accuracy: 0.9901 - val_loss: 0.0801 - val_accuracy: 0.9767\n",
            "Epoch 7/10\n",
            "375/375 [==============================] - 1s 4ms/step - loss: 0.0253 - accuracy: 0.9926 - val_loss: 0.0864 - val_accuracy: 0.9751\n",
            "Epoch 8/10\n",
            "375/375 [==============================] - 1s 4ms/step - loss: 0.0188 - accuracy: 0.9951 - val_loss: 0.0714 - val_accuracy: 0.9809\n",
            "Epoch 9/10\n",
            "375/375 [==============================] - 2s 4ms/step - loss: 0.0143 - accuracy: 0.9964 - val_loss: 0.0750 - val_accuracy: 0.9790\n",
            "Epoch 10/10\n",
            "375/375 [==============================] - 2s 5ms/step - loss: 0.0105 - accuracy: 0.9977 - val_loss: 0.0739 - val_accuracy: 0.9793\n"
          ]
        }
      ],
      "source": [
        "from tensorflow import keras\n",
        "from tensorflow.keras import layers\n",
        "\n",
        "def get_model():\n",
        "    model = keras.Sequential([\n",
        "        layers.Dense(512, activation=\"relu\"),\n",
        "        layers.Dense(10, activation=\"softmax\")\n",
        "    ])\n",
        "    model.compile(optimizer=\"rmsprop\",\n",
        "                  loss=\"sparse_categorical_crossentropy\",\n",
        "                  metrics=[\"accuracy\"])\n",
        "    return model\n",
        "\n",
        "model = get_model()\n",
        "history_noise = model.fit(\n",
        "    train_images_with_noise_channels, train_labels,\n",
        "    epochs=10,\n",
        "    batch_size=128,\n",
        "    validation_split=0.2)\n",
        "\n",
        "model = get_model()\n",
        "history_zeros = model.fit(\n",
        "    train_images_with_zeros_channels, train_labels,\n",
        "    epochs=10,\n",
        "    batch_size=128,\n",
        "    validation_split=0.2)"
      ]
    },
    {
      "cell_type": "code",
      "execution_count": 5,
      "metadata": {
        "colab": {
          "base_uri": "https://localhost:8080/"
        },
        "id": "ER45HWMj3D3y",
        "outputId": "f30a8289-fe04-41b4-99b6-76b1adf69402"
      },
      "outputs": [
        {
          "output_type": "stream",
          "name": "stdout",
          "text": [
            "Epoch 1/10\n",
            "375/375 [==============================] - 2s 4ms/step - loss: 0.2933 - accuracy: 0.9157 - val_loss: 0.1552 - val_accuracy: 0.9578\n",
            "Epoch 2/10\n",
            "375/375 [==============================] - 1s 4ms/step - loss: 0.1238 - accuracy: 0.9639 - val_loss: 0.1076 - val_accuracy: 0.9691\n",
            "Epoch 3/10\n",
            "375/375 [==============================] - 2s 4ms/step - loss: 0.0820 - accuracy: 0.9761 - val_loss: 0.0964 - val_accuracy: 0.9720\n",
            "Epoch 4/10\n",
            "375/375 [==============================] - 2s 5ms/step - loss: 0.0586 - accuracy: 0.9828 - val_loss: 0.0880 - val_accuracy: 0.9745\n",
            "Epoch 5/10\n",
            "375/375 [==============================] - 1s 3ms/step - loss: 0.0440 - accuracy: 0.9869 - val_loss: 0.0768 - val_accuracy: 0.9783\n",
            "Epoch 6/10\n",
            "375/375 [==============================] - 1s 4ms/step - loss: 0.0330 - accuracy: 0.9905 - val_loss: 0.0738 - val_accuracy: 0.9792\n",
            "Epoch 7/10\n",
            "375/375 [==============================] - 1s 3ms/step - loss: 0.0248 - accuracy: 0.9933 - val_loss: 0.0749 - val_accuracy: 0.9793\n",
            "Epoch 8/10\n",
            "375/375 [==============================] - 2s 4ms/step - loss: 0.0192 - accuracy: 0.9947 - val_loss: 0.0726 - val_accuracy: 0.9799\n",
            "Epoch 9/10\n",
            "375/375 [==============================] - 2s 4ms/step - loss: 0.0137 - accuracy: 0.9966 - val_loss: 0.0777 - val_accuracy: 0.9796\n",
            "Epoch 10/10\n",
            "375/375 [==============================] - 1s 3ms/step - loss: 0.0101 - accuracy: 0.9979 - val_loss: 0.0736 - val_accuracy: 0.9807\n"
          ]
        }
      ],
      "source": [
        "model = get_model()\n",
        "history_original = model.fit(\n",
        "    train_images, train_labels,\n",
        "    epochs=10,\n",
        "    batch_size=128,\n",
        "    validation_split=0.2)"
      ]
    },
    {
      "cell_type": "markdown",
      "metadata": {
        "id": "VOiySlRNRubT"
      },
      "source": [
        "**Plotting a validation accuracy comparison**"
      ]
    },
    {
      "cell_type": "code",
      "execution_count": 6,
      "metadata": {
        "id": "2Jr0TyPsRubU",
        "outputId": "164fbf24-e8c0-4a20-82ea-6d9cb8b22634",
        "colab": {
          "base_uri": "https://localhost:8080/",
          "height": 490
        }
      },
      "outputs": [
        {
          "output_type": "execute_result",
          "data": {
            "text/plain": [
              "<matplotlib.legend.Legend at 0x7fe460e50220>"
            ]
          },
          "metadata": {},
          "execution_count": 6
        },
        {
          "output_type": "display_data",
          "data": {
            "text/plain": [
              "<Figure size 640x480 with 1 Axes>"
            ],
            "image/png": "[encoded data removed]"
          },
          "metadata": {}
        }
      ],
      "source": [
        "import matplotlib.pyplot as plt\n",
        "val_acc_noise = history_noise.history[\"val_accuracy\"]\n",
        "val_acc_zeros = history_zeros.history[\"val_accuracy\"]\n",
        "val_acc= history_original.history[\"val_accuracy\"]\n",
        "epochs = range(1, 11)\n",
        "plt.plot(epochs, val_acc_noise, \"b-\",\n",
        "         label=\"Validation accuracy with noise channels\")\n",
        "plt.plot(epochs, val_acc_zeros, \"b--\",\n",
        "         label=\"Validation accuracy with zeros channels\")\n",
        "plt.plot(epochs, val_acc, \"r--\", label=\"Validation accuracy with original channels\")\n",
        "plt.title(\"Effect of noise channels on validation accuracy\")\n",
        "plt.xlabel(\"Epochs\")\n",
        "plt.ylabel(\"Accuracy\")\n",
        "plt.legend()"
      ]
    },
    {
      "cell_type": "markdown",
      "metadata": {
        "id": "IKgKxd-kRubU"
      },
      "source": [
        "### The nature of generalization in deep learning"
      ]
    },
    {
      "cell_type": "markdown",
      "metadata": {
        "id": "AlXSB4isRubU"
      },
      "source": [
        "**Fitting a MNIST model with randomly shuffled labels**"
      ]
    },
    {
      "cell_type": "code",
      "execution_count": 7,
      "metadata": {
        "id": "DIFWqT43RubU",
        "colab": {
          "base_uri": "https://localhost:8080/"
        },
        "outputId": "bc225ec8-91d2-4f11-862a-607d5b813f37"
      },
      "outputs": [
        {
          "output_type": "stream",
          "name": "stdout",
          "text": [
            "Epoch 1/100\n",
            "375/375 [==============================] - 2s 5ms/step - loss: 2.3146 - accuracy: 0.1033 - val_loss: 2.3043 - val_accuracy: 0.1063\n",
            "Epoch 2/100\n",
            "375/375 [==============================] - 2s 4ms/step - loss: 2.2997 - accuracy: 0.1162 - val_loss: 2.3133 - val_accuracy: 0.1002\n",
            "Epoch 3/100\n",
            "375/375 [==============================] - 2s 4ms/step - loss: 2.2917 - accuracy: 0.1277 - val_loss: 2.3184 - val_accuracy: 0.0978\n",
            "Epoch 4/100\n",
            "375/375 [==============================] - 1s 3ms/step - loss: 2.2798 - accuracy: 0.1372 - val_loss: 2.3292 - val_accuracy: 0.1031\n",
            "Epoch 5/100\n",
            "375/375 [==============================] - 1s 3ms/step - loss: 2.2650 - accuracy: 0.1510 - val_loss: 2.3282 - val_accuracy: 0.1038\n",
            "Epoch 6/100\n",
            "375/375 [==============================] - 1s 3ms/step - loss: 2.2459 - accuracy: 0.1637 - val_loss: 2.3468 - val_accuracy: 0.1025\n",
            "Epoch 7/100\n",
            "375/375 [==============================] - 1s 3ms/step - loss: 2.2229 - accuracy: 0.1787 - val_loss: 2.3567 - val_accuracy: 0.1036\n",
            "Epoch 8/100\n",
            "375/375 [==============================] - 1s 3ms/step - loss: 2.1964 - accuracy: 0.1946 - val_loss: 2.3808 - val_accuracy: 0.1029\n",
            "Epoch 9/100\n",
            "375/375 [==============================] - 1s 3ms/step - loss: 2.1663 - accuracy: 0.2105 - val_loss: 2.3958 - val_accuracy: 0.1013\n",
            "Epoch 10/100\n",
            "375/375 [==============================] - 1s 3ms/step - loss: 2.1337 - accuracy: 0.2269 - val_loss: 2.4138 - val_accuracy: 0.1034\n",
            "Epoch 11/100\n",
            "375/375 [==============================] - 2s 5ms/step - loss: 2.1005 - accuracy: 0.2439 - val_loss: 2.4453 - val_accuracy: 0.1028\n",
            "Epoch 12/100\n",
            "375/375 [==============================] - 1s 4ms/step - loss: 2.0624 - accuracy: 0.2623 - val_loss: 2.4696 - val_accuracy: 0.1056\n",
            "Epoch 13/100\n",
            "375/375 [==============================] - 1s 3ms/step - loss: 2.0248 - accuracy: 0.2798 - val_loss: 2.4977 - val_accuracy: 0.1027\n",
            "Epoch 14/100\n",
            "375/375 [==============================] - 1s 3ms/step - loss: 1.9858 - accuracy: 0.2954 - val_loss: 2.5196 - val_accuracy: 0.1014\n",
            "Epoch 15/100\n",
            "375/375 [==============================] - 1s 3ms/step - loss: 1.9476 - accuracy: 0.3102 - val_loss: 2.5563 - val_accuracy: 0.0997\n",
            "Epoch 16/100\n",
            "375/375 [==============================] - 1s 3ms/step - loss: 1.9067 - accuracy: 0.3276 - val_loss: 2.6115 - val_accuracy: 0.1033\n",
            "Epoch 17/100\n",
            "375/375 [==============================] - 1s 3ms/step - loss: 1.8657 - accuracy: 0.3452 - val_loss: 2.6543 - val_accuracy: 0.0937\n",
            "Epoch 18/100\n",
            "375/375 [==============================] - 1s 4ms/step - loss: 1.8254 - accuracy: 0.3624 - val_loss: 2.6740 - val_accuracy: 0.1009\n",
            "Epoch 19/100\n",
            "375/375 [==============================] - 1s 3ms/step - loss: 1.7866 - accuracy: 0.3794 - val_loss: 2.7063 - val_accuracy: 0.1028\n",
            "Epoch 20/100\n",
            "375/375 [==============================] - 2s 4ms/step - loss: 1.7503 - accuracy: 0.3915 - val_loss: 2.7580 - val_accuracy: 0.1018\n",
            "Epoch 21/100\n",
            "375/375 [==============================] - 2s 4ms/step - loss: 1.7098 - accuracy: 0.4065 - val_loss: 2.7974 - val_accuracy: 0.1007\n",
            "Epoch 22/100\n",
            "375/375 [==============================] - 1s 3ms/step - loss: 1.6735 - accuracy: 0.4198 - val_loss: 2.8351 - val_accuracy: 0.1007\n",
            "Epoch 23/100\n",
            "375/375 [==============================] - 1s 3ms/step - loss: 1.6377 - accuracy: 0.4352 - val_loss: 2.8846 - val_accuracy: 0.0967\n",
            "Epoch 24/100\n",
            "375/375 [==============================] - 1s 3ms/step - loss: 1.6026 - accuracy: 0.4471 - val_loss: 2.9502 - val_accuracy: 0.0999\n",
            "Epoch 25/100\n",
            "375/375 [==============================] - 1s 3ms/step - loss: 1.5652 - accuracy: 0.4625 - val_loss: 2.9917 - val_accuracy: 0.0967\n",
            "Epoch 26/100\n",
            "375/375 [==============================] - 1s 3ms/step - loss: 1.5311 - accuracy: 0.4774 - val_loss: 3.0307 - val_accuracy: 0.1014\n",
            "Epoch 27/100\n",
            "375/375 [==============================] - 1s 3ms/step - loss: 1.4987 - accuracy: 0.4876 - val_loss: 3.0839 - val_accuracy: 0.1018\n",
            "Epoch 28/100\n",
            "375/375 [==============================] - 1s 3ms/step - loss: 1.4649 - accuracy: 0.4999 - val_loss: 3.1435 - val_accuracy: 0.0989\n",
            "Epoch 29/100\n",
            "375/375 [==============================] - 1s 3ms/step - loss: 1.4335 - accuracy: 0.5069 - val_loss: 3.1890 - val_accuracy: 0.0977\n",
            "Epoch 30/100\n",
            "375/375 [==============================] - 2s 4ms/step - loss: 1.4033 - accuracy: 0.5244 - val_loss: 3.2271 - val_accuracy: 0.0976\n",
            "Epoch 31/100\n",
            "375/375 [==============================] - 1s 4ms/step - loss: 1.3716 - accuracy: 0.5354 - val_loss: 3.2939 - val_accuracy: 0.1008\n",
            "Epoch 32/100\n",
            "375/375 [==============================] - 1s 4ms/step - loss: 1.3403 - accuracy: 0.5434 - val_loss: 3.3392 - val_accuracy: 0.0990\n",
            "Epoch 33/100\n",
            "375/375 [==============================] - 1s 3ms/step - loss: 1.3113 - accuracy: 0.5589 - val_loss: 3.4123 - val_accuracy: 0.0953\n",
            "Epoch 34/100\n",
            "375/375 [==============================] - 1s 3ms/step - loss: 1.2845 - accuracy: 0.5661 - val_loss: 3.4560 - val_accuracy: 0.0974\n",
            "Epoch 35/100\n",
            "375/375 [==============================] - 1s 3ms/step - loss: 1.2572 - accuracy: 0.5751 - val_loss: 3.4922 - val_accuracy: 0.1002\n",
            "Epoch 36/100\n",
            "375/375 [==============================] - 1s 3ms/step - loss: 1.2300 - accuracy: 0.5847 - val_loss: 3.5864 - val_accuracy: 0.0999\n",
            "Epoch 37/100\n",
            "375/375 [==============================] - 1s 3ms/step - loss: 1.2029 - accuracy: 0.5936 - val_loss: 3.6341 - val_accuracy: 0.0991\n",
            "Epoch 38/100\n",
            "375/375 [==============================] - 1s 4ms/step - loss: 1.1783 - accuracy: 0.6046 - val_loss: 3.6716 - val_accuracy: 0.0993\n",
            "Epoch 39/100\n",
            "375/375 [==============================] - 1s 4ms/step - loss: 1.1495 - accuracy: 0.6157 - val_loss: 3.7556 - val_accuracy: 0.1001\n",
            "Epoch 40/100\n",
            "375/375 [==============================] - 2s 5ms/step - loss: 1.1268 - accuracy: 0.6234 - val_loss: 3.8266 - val_accuracy: 0.1003\n",
            "Epoch 41/100\n",
            "375/375 [==============================] - 1s 3ms/step - loss: 1.1034 - accuracy: 0.6311 - val_loss: 3.8628 - val_accuracy: 0.0985\n",
            "Epoch 42/100\n",
            "375/375 [==============================] - 1s 4ms/step - loss: 1.0787 - accuracy: 0.6408 - val_loss: 3.9617 - val_accuracy: 0.0971\n",
            "Epoch 43/100\n",
            "375/375 [==============================] - 1s 3ms/step - loss: 1.0582 - accuracy: 0.6466 - val_loss: 3.9764 - val_accuracy: 0.0982\n",
            "Epoch 44/100\n",
            "375/375 [==============================] - 1s 3ms/step - loss: 1.0345 - accuracy: 0.6534 - val_loss: 4.0540 - val_accuracy: 0.1010\n",
            "Epoch 45/100\n",
            "375/375 [==============================] - 1s 3ms/step - loss: 1.0136 - accuracy: 0.6632 - val_loss: 4.1025 - val_accuracy: 0.0993\n",
            "Epoch 46/100\n",
            "375/375 [==============================] - 1s 3ms/step - loss: 0.9919 - accuracy: 0.6702 - val_loss: 4.1704 - val_accuracy: 0.1023\n",
            "Epoch 47/100\n",
            "375/375 [==============================] - 2s 5ms/step - loss: 0.9718 - accuracy: 0.6775 - val_loss: 4.2369 - val_accuracy: 0.1018\n",
            "Epoch 48/100\n",
            "375/375 [==============================] - 1s 4ms/step - loss: 0.9509 - accuracy: 0.6846 - val_loss: 4.3227 - val_accuracy: 0.0996\n",
            "Epoch 49/100\n",
            "375/375 [==============================] - 2s 5ms/step - loss: 0.9290 - accuracy: 0.6942 - val_loss: 4.3678 - val_accuracy: 0.1002\n",
            "Epoch 50/100\n",
            "375/375 [==============================] - 1s 3ms/step - loss: 0.9129 - accuracy: 0.6975 - val_loss: 4.4205 - val_accuracy: 0.1001\n",
            "Epoch 51/100\n",
            "375/375 [==============================] - 1s 4ms/step - loss: 0.8943 - accuracy: 0.7065 - val_loss: 4.4802 - val_accuracy: 0.0982\n",
            "Epoch 52/100\n",
            "375/375 [==============================] - 1s 4ms/step - loss: 0.8751 - accuracy: 0.7113 - val_loss: 4.5812 - val_accuracy: 0.0988\n",
            "Epoch 53/100\n",
            "375/375 [==============================] - 1s 4ms/step - loss: 0.8559 - accuracy: 0.7201 - val_loss: 4.6903 - val_accuracy: 0.1023\n",
            "Epoch 54/100\n",
            "375/375 [==============================] - 1s 3ms/step - loss: 0.8381 - accuracy: 0.7256 - val_loss: 4.7038 - val_accuracy: 0.0978\n",
            "Epoch 55/100\n",
            "375/375 [==============================] - 1s 3ms/step - loss: 0.8216 - accuracy: 0.7306 - val_loss: 4.8063 - val_accuracy: 0.0997\n",
            "Epoch 56/100\n",
            "375/375 [==============================] - 1s 3ms/step - loss: 0.8068 - accuracy: 0.7366 - val_loss: 4.8817 - val_accuracy: 0.0982\n",
            "Epoch 57/100\n",
            "375/375 [==============================] - 1s 4ms/step - loss: 0.7882 - accuracy: 0.7436 - val_loss: 4.9282 - val_accuracy: 0.0986\n",
            "Epoch 58/100\n",
            "375/375 [==============================] - 2s 5ms/step - loss: 0.7704 - accuracy: 0.7495 - val_loss: 4.9815 - val_accuracy: 0.1020\n",
            "Epoch 59/100\n",
            "375/375 [==============================] - 2s 4ms/step - loss: 0.7573 - accuracy: 0.7536 - val_loss: 5.0303 - val_accuracy: 0.0992\n",
            "Epoch 60/100\n",
            "375/375 [==============================] - 1s 4ms/step - loss: 0.7397 - accuracy: 0.7600 - val_loss: 5.1034 - val_accuracy: 0.1002\n",
            "Epoch 61/100\n",
            "375/375 [==============================] - 1s 3ms/step - loss: 0.7268 - accuracy: 0.7635 - val_loss: 5.1981 - val_accuracy: 0.0971\n",
            "Epoch 62/100\n",
            "375/375 [==============================] - 1s 3ms/step - loss: 0.7136 - accuracy: 0.7678 - val_loss: 5.2598 - val_accuracy: 0.1008\n",
            "Epoch 63/100\n",
            "375/375 [==============================] - 1s 3ms/step - loss: 0.6993 - accuracy: 0.7742 - val_loss: 5.3349 - val_accuracy: 0.1002\n",
            "Epoch 64/100\n",
            "375/375 [==============================] - 1s 4ms/step - loss: 0.6829 - accuracy: 0.7802 - val_loss: 5.4152 - val_accuracy: 0.1023\n",
            "Epoch 65/100\n",
            "375/375 [==============================] - 1s 3ms/step - loss: 0.6701 - accuracy: 0.7829 - val_loss: 5.4751 - val_accuracy: 0.1002\n",
            "Epoch 66/100\n",
            "375/375 [==============================] - 1s 3ms/step - loss: 0.6559 - accuracy: 0.7884 - val_loss: 5.5415 - val_accuracy: 0.0989\n",
            "Epoch 67/100\n",
            "375/375 [==============================] - 2s 4ms/step - loss: 0.6420 - accuracy: 0.7954 - val_loss: 5.6370 - val_accuracy: 0.1006\n",
            "Epoch 68/100\n",
            "375/375 [==============================] - 2s 4ms/step - loss: 0.6313 - accuracy: 0.7971 - val_loss: 5.7080 - val_accuracy: 0.1018\n",
            "Epoch 69/100\n",
            "375/375 [==============================] - 1s 3ms/step - loss: 0.6171 - accuracy: 0.8024 - val_loss: 5.7691 - val_accuracy: 0.1004\n",
            "Epoch 70/100\n",
            "375/375 [==============================] - 1s 3ms/step - loss: 0.6024 - accuracy: 0.8066 - val_loss: 5.8734 - val_accuracy: 0.1013\n",
            "Epoch 71/100\n",
            "375/375 [==============================] - 1s 3ms/step - loss: 0.5931 - accuracy: 0.8111 - val_loss: 5.9114 - val_accuracy: 0.1017\n",
            "Epoch 72/100\n",
            "375/375 [==============================] - 1s 3ms/step - loss: 0.5819 - accuracy: 0.8130 - val_loss: 5.9778 - val_accuracy: 0.1008\n",
            "Epoch 73/100\n",
            "375/375 [==============================] - 1s 3ms/step - loss: 0.5724 - accuracy: 0.8179 - val_loss: 6.0449 - val_accuracy: 0.0993\n",
            "Epoch 74/100\n",
            "375/375 [==============================] - 1s 3ms/step - loss: 0.5597 - accuracy: 0.8217 - val_loss: 6.1162 - val_accuracy: 0.0984\n",
            "Epoch 75/100\n",
            "375/375 [==============================] - 1s 3ms/step - loss: 0.5491 - accuracy: 0.8248 - val_loss: 6.1930 - val_accuracy: 0.1007\n",
            "Epoch 76/100\n",
            "375/375 [==============================] - 1s 4ms/step - loss: 0.5375 - accuracy: 0.8300 - val_loss: 6.3159 - val_accuracy: 0.1000\n",
            "Epoch 77/100\n",
            "375/375 [==============================] - 2s 5ms/step - loss: 0.5271 - accuracy: 0.8331 - val_loss: 6.4015 - val_accuracy: 0.0978\n",
            "Epoch 78/100\n",
            "375/375 [==============================] - 1s 4ms/step - loss: 0.5185 - accuracy: 0.8342 - val_loss: 6.4937 - val_accuracy: 0.0995\n",
            "Epoch 79/100\n",
            "375/375 [==============================] - 1s 4ms/step - loss: 0.5079 - accuracy: 0.8395 - val_loss: 6.5319 - val_accuracy: 0.0950\n",
            "Epoch 80/100\n",
            "375/375 [==============================] - 1s 3ms/step - loss: 0.5006 - accuracy: 0.8411 - val_loss: 6.5702 - val_accuracy: 0.0982\n",
            "Epoch 81/100\n",
            "375/375 [==============================] - 1s 3ms/step - loss: 0.4892 - accuracy: 0.8454 - val_loss: 6.6672 - val_accuracy: 0.1002\n",
            "Epoch 82/100\n",
            "375/375 [==============================] - 1s 4ms/step - loss: 0.4788 - accuracy: 0.8483 - val_loss: 6.7430 - val_accuracy: 0.1007\n",
            "Epoch 83/100\n",
            "375/375 [==============================] - 1s 3ms/step - loss: 0.4702 - accuracy: 0.8522 - val_loss: 6.8589 - val_accuracy: 0.1002\n",
            "Epoch 84/100\n",
            "375/375 [==============================] - 1s 3ms/step - loss: 0.4618 - accuracy: 0.8549 - val_loss: 6.8782 - val_accuracy: 0.0986\n",
            "Epoch 85/100\n",
            "375/375 [==============================] - 1s 3ms/step - loss: 0.4529 - accuracy: 0.8575 - val_loss: 6.9859 - val_accuracy: 0.1006\n",
            "Epoch 86/100\n",
            "375/375 [==============================] - 2s 4ms/step - loss: 0.4455 - accuracy: 0.8584 - val_loss: 7.0118 - val_accuracy: 0.1020\n",
            "Epoch 87/100\n",
            "375/375 [==============================] - 2s 4ms/step - loss: 0.4380 - accuracy: 0.8623 - val_loss: 7.1265 - val_accuracy: 0.1032\n",
            "Epoch 88/100\n",
            "375/375 [==============================] - 1s 3ms/step - loss: 0.4279 - accuracy: 0.8654 - val_loss: 7.2436 - val_accuracy: 0.0996\n",
            "Epoch 89/100\n",
            "375/375 [==============================] - 1s 4ms/step - loss: 0.4224 - accuracy: 0.8677 - val_loss: 7.2459 - val_accuracy: 0.0997\n",
            "Epoch 90/100\n",
            "375/375 [==============================] - 1s 3ms/step - loss: 0.4115 - accuracy: 0.8712 - val_loss: 7.3047 - val_accuracy: 0.0975\n",
            "Epoch 91/100\n",
            "375/375 [==============================] - 1s 3ms/step - loss: 0.4049 - accuracy: 0.8732 - val_loss: 7.4157 - val_accuracy: 0.0987\n",
            "Epoch 92/100\n",
            "375/375 [==============================] - 1s 3ms/step - loss: 0.3968 - accuracy: 0.8769 - val_loss: 7.4761 - val_accuracy: 0.1005\n",
            "Epoch 93/100\n",
            "375/375 [==============================] - 1s 3ms/step - loss: 0.3898 - accuracy: 0.8774 - val_loss: 7.6147 - val_accuracy: 0.0966\n",
            "Epoch 94/100\n",
            "375/375 [==============================] - 1s 3ms/step - loss: 0.3817 - accuracy: 0.8819 - val_loss: 7.6194 - val_accuracy: 0.1001\n",
            "Epoch 95/100\n",
            "375/375 [==============================] - 1s 4ms/step - loss: 0.3743 - accuracy: 0.8842 - val_loss: 7.6888 - val_accuracy: 0.1002\n",
            "Epoch 96/100\n",
            "375/375 [==============================] - 2s 5ms/step - loss: 0.3703 - accuracy: 0.8858 - val_loss: 7.7303 - val_accuracy: 0.1013\n",
            "Epoch 97/100\n",
            "375/375 [==============================] - 1s 4ms/step - loss: 0.3633 - accuracy: 0.8870 - val_loss: 7.8671 - val_accuracy: 0.0995\n",
            "Epoch 98/100\n",
            "375/375 [==============================] - 1s 3ms/step - loss: 0.3540 - accuracy: 0.8896 - val_loss: 7.9416 - val_accuracy: 0.0997\n",
            "Epoch 99/100\n",
            "375/375 [==============================] - 1s 3ms/step - loss: 0.3491 - accuracy: 0.8920 - val_loss: 7.9850 - val_accuracy: 0.0978\n",
            "Epoch 100/100\n",
            "375/375 [==============================] - 1s 3ms/step - loss: 0.3447 - accuracy: 0.8932 - val_loss: 8.0816 - val_accuracy: 0.0991\n"
          ]
        }
      ],
      "source": [
        "(train_images, train_labels), _ = mnist.load_data()\n",
        "train_images = train_images.reshape((60000, 28 * 28))\n",
        "train_images = train_images.astype(\"float32\") / 255\n",
        "\n",
        "random_train_labels = train_labels[:]\n",
        "np.random.shuffle(random_train_labels)\n",
        "\n",
        "model = keras.Sequential([\n",
        "    layers.Dense(512, activation=\"relu\"),\n",
        "    layers.Dense(10, activation=\"softmax\")\n",
        "])\n",
        "model.compile(optimizer=\"rmsprop\",\n",
        "              loss=\"sparse_categorical_crossentropy\",\n",
        "              metrics=[\"accuracy\"])\n",
        "model1 = model.fit(train_images, random_train_labels,\n",
        "          epochs=100,\n",
        "          batch_size=128,\n",
        "          validation_split=0.2)"
      ]
    },
    {
      "cell_type": "code",
      "source": [
        "import matplotlib.pyplot as plt\n",
        "train_acc = model1.history[\"accuracy\"]\n",
        "val_acc = model1.history[\"val_accuracy\"]\n",
        "\n",
        "epochs = range(1, 101)\n",
        "\n",
        "plt.plot(epochs, train_acc, \"r-\",\n",
        "         label=\"train_accuracy\")\n",
        "\n",
        "plt.plot(epochs, val_acc, \"b-\",\n",
        "         label=\"Validation_accuracy\")\n",
        "\n",
        "plt.title(\"Effect on validation accuracy\")\n",
        "plt.xlabel(\"Epochs\")\n",
        "plt.ylabel(\"accuracy\")\n",
        "plt.legend()"
      ],
      "metadata": {
        "colab": {
          "base_uri": "https://localhost:8080/",
          "height": 490
        },
        "id": "ujb5EkPhI_U_",
        "outputId": "0b5da4b8-7c49-4685-9643-e037b1bcaa1d"
      },
      "execution_count": 8,
      "outputs": [
        {
          "output_type": "execute_result",
          "data": {
            "text/plain": [
              "<matplotlib.legend.Legend at 0x7fe460daed30>"
            ]
          },
          "metadata": {},
          "execution_count": 8
        },
        {
          "output_type": "display_data",
          "data": {
            "text/plain": [
              "<Figure size 640x480 with 1 Axes>"
            ],
            "image/png": "[encoded data removed]"
          },
          "metadata": {}
        }
      ]
    },
    {
      "cell_type": "markdown",
      "metadata": {
        "id": "rDLPkLywRubV"
      },
      "source": [
        "#### The manifold hypothesis"
      ]
    },
    {
      "cell_type": "markdown",
      "metadata": {
        "id": "dXCIUSJERubV"
      },
      "source": [
        "#### Interpolation as a source of generalization"
      ]
    },
    {
      "cell_type": "markdown",
      "metadata": {
        "id": "sUc1ixvhRubV"
      },
      "source": [
        "#### Why deep learning works"
      ]
    },
    {
      "cell_type": "markdown",
      "metadata": {
        "id": "omcy5EVzRubV"
      },
      "source": [
        "#### Training data is paramount"
      ]
    },
    {
      "cell_type": "markdown",
      "metadata": {
        "id": "bcWlmcduRubW"
      },
      "source": [
        "## Evaluating machine-learning models"
      ]
    },
    {
      "cell_type": "markdown",
      "metadata": {
        "id": "pXjFJTuARubW"
      },
      "source": [
        "### Training, validation, and test sets"
      ]
    },
    {
      "cell_type": "markdown",
      "metadata": {
        "id": "TwIioxv0RubW"
      },
      "source": [
        "#### Simple hold-out validation"
      ]
    },
    {
      "cell_type": "markdown",
      "metadata": {
        "id": "iPP2JALkRubW"
      },
      "source": [
        "#### K-fold validation"
      ]
    },
    {
      "cell_type": "markdown",
      "metadata": {
        "id": "LHY5dhdzRubW"
      },
      "source": [
        "#### Iterated K-fold validation with shuffling"
      ]
    },
    {
      "cell_type": "markdown",
      "metadata": {
        "id": "0r6zyqbRRubW"
      },
      "source": [
        "### Beating a common-sense baseline"
      ]
    },
    {
      "cell_type": "markdown",
      "metadata": {
        "id": "ST1t6nAFRubX"
      },
      "source": [
        "### Things to keep in mind about model evaluation"
      ]
    },
    {
      "cell_type": "markdown",
      "metadata": {
        "id": "y5MT44tfRubX"
      },
      "source": [
        "## Improving model fit"
      ]
    },
    {
      "cell_type": "markdown",
      "metadata": {
        "id": "w6zrUhavRubX"
      },
      "source": [
        "### Tuning key gradient descent parameters"
      ]
    },
    {
      "cell_type": "markdown",
      "metadata": {
        "id": "hxhQC46IRubX"
      },
      "source": [
        "**Training a MNIST model with an incorrectly high learning rate**"
      ]
    },
    {
      "cell_type": "code",
      "execution_count": 9,
      "metadata": {
        "id": "sAQHmZ2cRubX",
        "colab": {
          "base_uri": "https://localhost:8080/"
        },
        "outputId": "fe37214a-4fb2-4765-b97a-8cd7cdc3cce2"
      },
      "outputs": [
        {
          "output_type": "stream",
          "name": "stdout",
          "text": [
            "Epoch 1/10\n",
            "375/375 [==============================] - 2s 4ms/step - loss: 828.6201 - accuracy: 0.2885 - val_loss: 2.4487 - val_accuracy: 0.2029\n",
            "Epoch 2/10\n",
            "375/375 [==============================] - 2s 5ms/step - loss: 2.5259 - accuracy: 0.1986 - val_loss: 2.0530 - val_accuracy: 0.2333\n",
            "Epoch 3/10\n",
            "375/375 [==============================] - 2s 6ms/step - loss: 2.4803 - accuracy: 0.2013 - val_loss: 2.1834 - val_accuracy: 0.1745\n",
            "Epoch 4/10\n",
            "375/375 [==============================] - 1s 3ms/step - loss: 3.1013 - accuracy: 0.1931 - val_loss: 2.1721 - val_accuracy: 0.1954\n",
            "Epoch 5/10\n",
            "375/375 [==============================] - 2s 5ms/step - loss: 2.3610 - accuracy: 0.2005 - val_loss: 2.3105 - val_accuracy: 0.1941\n",
            "Epoch 6/10\n",
            "375/375 [==============================] - 2s 4ms/step - loss: 2.2961 - accuracy: 0.2044 - val_loss: 2.2148 - val_accuracy: 0.1885\n",
            "Epoch 7/10\n",
            "375/375 [==============================] - 1s 3ms/step - loss: 2.4252 - accuracy: 0.1884 - val_loss: 2.1960 - val_accuracy: 0.2058\n",
            "Epoch 8/10\n",
            "375/375 [==============================] - 1s 3ms/step - loss: 2.3637 - accuracy: 0.1966 - val_loss: 2.2410 - val_accuracy: 0.1867\n",
            "Epoch 9/10\n",
            "375/375 [==============================] - 1s 3ms/step - loss: 2.2448 - accuracy: 0.1895 - val_loss: 2.1941 - val_accuracy: 0.1837\n",
            "Epoch 10/10\n",
            "375/375 [==============================] - 1s 3ms/step - loss: 2.2188 - accuracy: 0.1914 - val_loss: 2.3221 - val_accuracy: 0.1714\n"
          ]
        },
        {
          "output_type": "execute_result",
          "data": {
            "text/plain": [
              "<keras.callbacks.History at 0x7fe3e86965e0>"
            ]
          },
          "metadata": {},
          "execution_count": 9
        }
      ],
      "source": [
        "(train_images, train_labels), _ = mnist.load_data()\n",
        "train_images = train_images.reshape((60000, 28 * 28))\n",
        "train_images = train_images.astype(\"float32\") / 255\n",
        "\n",
        "model = keras.Sequential([\n",
        "    layers.Dense(512, activation=\"relu\"),\n",
        "    layers.Dense(10, activation=\"softmax\")\n",
        "])\n",
        "model.compile(optimizer=keras.optimizers.RMSprop(1.),\n",
        "              loss=\"sparse_categorical_crossentropy\",\n",
        "              metrics=[\"accuracy\"])\n",
        "model.fit(train_images, train_labels,\n",
        "          epochs=10,\n",
        "          batch_size=128,\n",
        "          validation_split=0.2)"
      ]
    },
    {
      "cell_type": "markdown",
      "metadata": {
        "id": "fu-IOo2ORubX"
      },
      "source": [
        "**The same model with a more appropriate learning rate**"
      ]
    },
    {
      "cell_type": "code",
      "execution_count": 10,
      "metadata": {
        "id": "nbQ7wfx0RubX",
        "colab": {
          "base_uri": "https://localhost:8080/"
        },
        "outputId": "eb644acb-9243-4308-b4d9-9bccce695155"
      },
      "outputs": [
        {
          "output_type": "stream",
          "name": "stdout",
          "text": [
            "Epoch 1/10\n",
            "375/375 [==============================] - 3s 5ms/step - loss: 0.3500 - accuracy: 0.9120 - val_loss: 0.1612 - val_accuracy: 0.9563\n",
            "Epoch 2/10\n",
            "375/375 [==============================] - 1s 3ms/step - loss: 0.1261 - accuracy: 0.9651 - val_loss: 0.1300 - val_accuracy: 0.9688\n",
            "Epoch 3/10\n",
            "375/375 [==============================] - 1s 3ms/step - loss: 0.0947 - accuracy: 0.9750 - val_loss: 0.1547 - val_accuracy: 0.9671\n",
            "Epoch 4/10\n",
            "375/375 [==============================] - 1s 3ms/step - loss: 0.0842 - accuracy: 0.9791 - val_loss: 0.1574 - val_accuracy: 0.9691\n",
            "Epoch 5/10\n",
            "375/375 [==============================] - 1s 3ms/step - loss: 0.0684 - accuracy: 0.9828 - val_loss: 0.1814 - val_accuracy: 0.9688\n",
            "Epoch 6/10\n",
            "375/375 [==============================] - 1s 3ms/step - loss: 0.0560 - accuracy: 0.9859 - val_loss: 0.1767 - val_accuracy: 0.9740\n",
            "Epoch 7/10\n",
            "375/375 [==============================] - 1s 3ms/step - loss: 0.0596 - accuracy: 0.9866 - val_loss: 0.1721 - val_accuracy: 0.9729\n",
            "Epoch 8/10\n",
            "375/375 [==============================] - 1s 3ms/step - loss: 0.0516 - accuracy: 0.9885 - val_loss: 0.2018 - val_accuracy: 0.9739\n",
            "Epoch 9/10\n",
            "375/375 [==============================] - 1s 3ms/step - loss: 0.0419 - accuracy: 0.9902 - val_loss: 0.2308 - val_accuracy: 0.9752\n",
            "Epoch 10/10\n",
            "375/375 [==============================] - 2s 4ms/step - loss: 0.0408 - accuracy: 0.9908 - val_loss: 0.2365 - val_accuracy: 0.9730\n"
          ]
        },
        {
          "output_type": "execute_result",
          "data": {
            "text/plain": [
              "<keras.callbacks.History at 0x7fe3e8566d60>"
            ]
          },
          "metadata": {},
          "execution_count": 10
        }
      ],
      "source": [
        "model = keras.Sequential([\n",
        "    layers.Dense(512, activation=\"relu\"),\n",
        "    layers.Dense(10, activation=\"softmax\")\n",
        "])\n",
        "model.compile(optimizer=keras.optimizers.RMSprop(1e-2),\n",
        "              loss=\"sparse_categorical_crossentropy\",\n",
        "              metrics=[\"accuracy\"])\n",
        "model.fit(train_images, train_labels,\n",
        "          epochs=10,\n",
        "          batch_size=128,\n",
        "          validation_split=0.2)"
      ]
    },
    {
      "cell_type": "markdown",
      "metadata": {
        "id": "_gFIdmNkRubY"
      },
      "source": [
        "### Leveraging better architecture priors"
      ]
    },
    {
      "cell_type": "markdown",
      "metadata": {
        "id": "2AisNYwIRubY"
      },
      "source": [
        "### Increasing model capacity"
      ]
    },
    {
      "cell_type": "markdown",
      "metadata": {
        "id": "0pLVXh6zRubY"
      },
      "source": [
        "**A simple logistic regression on MNIST**"
      ]
    },
    {
      "cell_type": "code",
      "execution_count": 11,
      "metadata": {
        "id": "_KA13ub9RubY",
        "colab": {
          "base_uri": "https://localhost:8080/"
        },
        "outputId": "5bf1de5b-a388-4d73-820d-3f0f079cc7b3"
      },
      "outputs": [
        {
          "output_type": "stream",
          "name": "stdout",
          "text": [
            "Epoch 1/20\n",
            "375/375 [==============================] - 2s 4ms/step - loss: 0.6764 - accuracy: 0.8329 - val_loss: 0.3622 - val_accuracy: 0.9025\n",
            "Epoch 2/20\n",
            "375/375 [==============================] - 1s 3ms/step - loss: 0.3548 - accuracy: 0.9024 - val_loss: 0.3110 - val_accuracy: 0.9149\n",
            "Epoch 3/20\n",
            "375/375 [==============================] - 1s 3ms/step - loss: 0.3193 - accuracy: 0.9119 - val_loss: 0.2939 - val_accuracy: 0.9178\n",
            "Epoch 4/20\n",
            "375/375 [==============================] - 1s 3ms/step - loss: 0.3029 - accuracy: 0.9154 - val_loss: 0.2851 - val_accuracy: 0.9218\n",
            "Epoch 5/20\n",
            "375/375 [==============================] - 1s 3ms/step - loss: 0.2929 - accuracy: 0.9185 - val_loss: 0.2790 - val_accuracy: 0.9219\n",
            "Epoch 6/20\n",
            "375/375 [==============================] - 2s 6ms/step - loss: 0.2860 - accuracy: 0.9202 - val_loss: 0.2757 - val_accuracy: 0.9245\n",
            "Epoch 7/20\n",
            "375/375 [==============================] - 1s 3ms/step - loss: 0.2808 - accuracy: 0.9215 - val_loss: 0.2730 - val_accuracy: 0.9253\n",
            "Epoch 8/20\n",
            "375/375 [==============================] - 1s 3ms/step - loss: 0.2771 - accuracy: 0.9228 - val_loss: 0.2715 - val_accuracy: 0.9250\n",
            "Epoch 9/20\n",
            "375/375 [==============================] - 1s 3ms/step - loss: 0.2738 - accuracy: 0.9235 - val_loss: 0.2690 - val_accuracy: 0.9271\n",
            "Epoch 10/20\n",
            "375/375 [==============================] - 1s 3ms/step - loss: 0.2711 - accuracy: 0.9251 - val_loss: 0.2691 - val_accuracy: 0.9268\n",
            "Epoch 11/20\n",
            "375/375 [==============================] - 1s 3ms/step - loss: 0.2690 - accuracy: 0.9255 - val_loss: 0.2664 - val_accuracy: 0.9289\n",
            "Epoch 12/20\n",
            "375/375 [==============================] - 1s 3ms/step - loss: 0.2667 - accuracy: 0.9264 - val_loss: 0.2655 - val_accuracy: 0.9283\n",
            "Epoch 13/20\n",
            "375/375 [==============================] - 1s 3ms/step - loss: 0.2651 - accuracy: 0.9266 - val_loss: 0.2640 - val_accuracy: 0.9294\n",
            "Epoch 14/20\n",
            "375/375 [==============================] - 1s 4ms/step - loss: 0.2633 - accuracy: 0.9270 - val_loss: 0.2656 - val_accuracy: 0.9289\n",
            "Epoch 15/20\n",
            "375/375 [==============================] - 1s 4ms/step - loss: 0.2617 - accuracy: 0.9286 - val_loss: 0.2650 - val_accuracy: 0.9283\n",
            "Epoch 16/20\n",
            "375/375 [==============================] - 2s 4ms/step - loss: 0.2606 - accuracy: 0.9281 - val_loss: 0.2647 - val_accuracy: 0.9288\n",
            "Epoch 17/20\n",
            "375/375 [==============================] - 1s 3ms/step - loss: 0.2594 - accuracy: 0.9286 - val_loss: 0.2659 - val_accuracy: 0.9289\n",
            "Epoch 18/20\n",
            "375/375 [==============================] - 1s 3ms/step - loss: 0.2584 - accuracy: 0.9287 - val_loss: 0.2618 - val_accuracy: 0.9306\n",
            "Epoch 19/20\n",
            "375/375 [==============================] - 1s 3ms/step - loss: 0.2572 - accuracy: 0.9296 - val_loss: 0.2638 - val_accuracy: 0.9302\n",
            "Epoch 20/20\n",
            "375/375 [==============================] - 1s 3ms/step - loss: 0.2562 - accuracy: 0.9301 - val_loss: 0.2630 - val_accuracy: 0.9289\n"
          ]
        }
      ],
      "source": [
        "model = keras.Sequential([layers.Dense(10, activation=\"softmax\")])\n",
        "model.compile(optimizer=\"rmsprop\",\n",
        "              loss=\"sparse_categorical_crossentropy\",\n",
        "              metrics=[\"accuracy\"])\n",
        "history_small_model = model.fit(\n",
        "    train_images, train_labels,\n",
        "    epochs=20,\n",
        "    batch_size=128,\n",
        "    validation_split=0.2)"
      ]
    },
    {
      "cell_type": "code",
      "execution_count": 12,
      "metadata": {
        "id": "iimC8XzYRubY",
        "colab": {
          "base_uri": "https://localhost:8080/",
          "height": 490
        },
        "outputId": "ab91e109-7a7a-4df8-e738-976708568915"
      },
      "outputs": [
        {
          "output_type": "execute_result",
          "data": {
            "text/plain": [
              "<matplotlib.legend.Legend at 0x7fe3e8c9c0a0>"
            ]
          },
          "metadata": {},
          "execution_count": 12
        },
        {
          "output_type": "display_data",
          "data": {
            "text/plain": [
              "<Figure size 640x480 with 1 Axes>"
            ],
            "image/png": "[encoded data removed]"
          },
          "metadata": {}
        }
      ],
      "source": [
        "import matplotlib.pyplot as plt\n",
        "val_loss = history_small_model.history[\"val_loss\"]\n",
        "epochs = range(1, 21)\n",
        "plt.plot(epochs, val_loss, \"b--\",\n",
        "         label=\"Validation loss\")\n",
        "plt.title(\"Effect of insufficient model capacity on validation loss\")\n",
        "plt.xlabel(\"Epochs\")\n",
        "plt.ylabel(\"Loss\")\n",
        "plt.legend()"
      ]
    },
    {
      "cell_type": "code",
      "execution_count": 13,
      "metadata": {
        "id": "Bz2QBjdfRubY",
        "colab": {
          "base_uri": "https://localhost:8080/"
        },
        "outputId": "abacc15c-615a-424e-a66d-51d14581adee"
      },
      "outputs": [
        {
          "output_type": "stream",
          "name": "stdout",
          "text": [
            "Epoch 1/20\n",
            "375/375 [==============================] - 2s 4ms/step - loss: 0.3665 - accuracy: 0.8971 - val_loss: 0.1835 - val_accuracy: 0.9469\n",
            "Epoch 2/20\n",
            "375/375 [==============================] - 1s 4ms/step - loss: 0.1590 - accuracy: 0.9530 - val_loss: 0.1293 - val_accuracy: 0.9632\n",
            "Epoch 3/20\n",
            "375/375 [==============================] - 1s 4ms/step - loss: 0.1129 - accuracy: 0.9660 - val_loss: 0.1204 - val_accuracy: 0.9650\n",
            "Epoch 4/20\n",
            "375/375 [==============================] - 2s 5ms/step - loss: 0.0882 - accuracy: 0.9735 - val_loss: 0.1042 - val_accuracy: 0.9701\n",
            "Epoch 5/20\n",
            "375/375 [==============================] - 2s 4ms/step - loss: 0.0713 - accuracy: 0.9789 - val_loss: 0.0945 - val_accuracy: 0.9724\n",
            "Epoch 6/20\n",
            "375/375 [==============================] - 1s 3ms/step - loss: 0.0589 - accuracy: 0.9818 - val_loss: 0.0925 - val_accuracy: 0.9740\n",
            "Epoch 7/20\n",
            "375/375 [==============================] - 1s 4ms/step - loss: 0.0470 - accuracy: 0.9857 - val_loss: 0.0889 - val_accuracy: 0.9768\n",
            "Epoch 8/20\n",
            "375/375 [==============================] - 1s 4ms/step - loss: 0.0401 - accuracy: 0.9870 - val_loss: 0.1045 - val_accuracy: 0.9728\n",
            "Epoch 9/20\n",
            "375/375 [==============================] - 1s 3ms/step - loss: 0.0331 - accuracy: 0.9898 - val_loss: 0.0955 - val_accuracy: 0.9752\n",
            "Epoch 10/20\n",
            "375/375 [==============================] - 1s 3ms/step - loss: 0.0277 - accuracy: 0.9913 - val_loss: 0.0981 - val_accuracy: 0.9737\n",
            "Epoch 11/20\n",
            "375/375 [==============================] - 1s 4ms/step - loss: 0.0228 - accuracy: 0.9933 - val_loss: 0.1064 - val_accuracy: 0.9732\n",
            "Epoch 12/20\n",
            "375/375 [==============================] - 1s 4ms/step - loss: 0.0203 - accuracy: 0.9934 - val_loss: 0.0996 - val_accuracy: 0.9747\n",
            "Epoch 13/20\n",
            "375/375 [==============================] - 2s 5ms/step - loss: 0.0164 - accuracy: 0.9951 - val_loss: 0.1067 - val_accuracy: 0.9753\n",
            "Epoch 14/20\n",
            "375/375 [==============================] - 2s 4ms/step - loss: 0.0139 - accuracy: 0.9955 - val_loss: 0.1099 - val_accuracy: 0.9752\n",
            "Epoch 15/20\n",
            "375/375 [==============================] - 1s 4ms/step - loss: 0.0120 - accuracy: 0.9964 - val_loss: 0.1151 - val_accuracy: 0.9747\n",
            "Epoch 16/20\n",
            "375/375 [==============================] - 1s 4ms/step - loss: 0.0094 - accuracy: 0.9972 - val_loss: 0.1217 - val_accuracy: 0.9750\n",
            "Epoch 17/20\n",
            "375/375 [==============================] - 1s 3ms/step - loss: 0.0080 - accuracy: 0.9977 - val_loss: 0.1166 - val_accuracy: 0.9756\n",
            "Epoch 18/20\n",
            "375/375 [==============================] - 1s 3ms/step - loss: 0.0070 - accuracy: 0.9979 - val_loss: 0.1315 - val_accuracy: 0.9727\n",
            "Epoch 19/20\n",
            "375/375 [==============================] - 1s 3ms/step - loss: 0.0059 - accuracy: 0.9983 - val_loss: 0.1450 - val_accuracy: 0.9727\n",
            "Epoch 20/20\n",
            "375/375 [==============================] - 1s 4ms/step - loss: 0.0049 - accuracy: 0.9986 - val_loss: 0.1261 - val_accuracy: 0.9768\n"
          ]
        }
      ],
      "source": [
        "model = keras.Sequential([\n",
        "    layers.Dense(96, activation=\"relu\"),\n",
        "    layers.Dense(96, activation=\"relu\"),\n",
        "    layers.Dense(10, activation=\"softmax\"),\n",
        "])\n",
        "model.compile(optimizer=\"rmsprop\",\n",
        "              loss=\"sparse_categorical_crossentropy\",\n",
        "              metrics=[\"accuracy\"])\n",
        "history_large_model = model.fit(\n",
        "    train_images, train_labels,\n",
        "    epochs=20,\n",
        "    batch_size=128,\n",
        "    validation_split=0.2)"
      ]
    },
    {
      "cell_type": "code",
      "source": [
        "import matplotlib.pyplot as plt\n",
        "val_loss = history_large_model.history[\"val_loss\"]\n",
        "epochs = range(1, 21)\n",
        "plt.plot(epochs, val_loss, \"b--\",\n",
        "         label=\"Validation loss\")\n",
        "plt.title(\"Effect of insufficient model capacity on validation loss\")\n",
        "plt.xlabel(\"Epochs\")\n",
        "plt.ylabel(\"Loss\")\n",
        "plt.legend()"
      ],
      "metadata": {
        "colab": {
          "base_uri": "https://localhost:8080/",
          "height": 490
        },
        "id": "w7b3V5cnLG0K",
        "outputId": "95825830-bfb1-4482-858a-220772682275"
      },
      "execution_count": 14,
      "outputs": [
        {
          "output_type": "execute_result",
          "data": {
            "text/plain": [
              "<matplotlib.legend.Legend at 0x7fe3e8aecca0>"
            ]
          },
          "metadata": {},
          "execution_count": 14
        },
        {
          "output_type": "display_data",
          "data": {
            "text/plain": [
              "<Figure size 640x480 with 1 Axes>"
            ],
            "image/png": "[encoded data removed]"
          },
          "metadata": {}
        }
      ]
    },
    {
      "cell_type": "markdown",
      "metadata": {
        "id": "IWo4vqXIRubZ"
      },
      "source": [
        "## Improving generalization"
      ]
    },
    {
      "cell_type": "markdown",
      "metadata": {
        "id": "4t511eNVRubZ"
      },
      "source": [
        "### Dataset curation"
      ]
    },
    {
      "cell_type": "markdown",
      "metadata": {
        "id": "YdNUekVKRubZ"
      },
      "source": [
        "### Feature engineering"
      ]
    },
    {
      "cell_type": "markdown",
      "metadata": {
        "id": "zwY8SPGPRubZ"
      },
      "source": [
        "### Using early stopping"
      ]
    },
    {
      "cell_type": "markdown",
      "metadata": {
        "id": "W5xnksp7RubZ"
      },
      "source": [
        "### Regularizing your model"
      ]
    },
    {
      "cell_type": "markdown",
      "metadata": {
        "id": "qNEcwKZhRubZ"
      },
      "source": [
        "#### Reducing the network's size"
      ]
    },
    {
      "cell_type": "markdown",
      "metadata": {
        "id": "wF4Cha-2RubZ"
      },
      "source": [
        "**Original model**"
      ]
    },
    {
      "cell_type": "code",
      "execution_count": 15,
      "metadata": {
        "id": "HHq-2OIfRubZ",
        "colab": {
          "base_uri": "https://localhost:8080/"
        },
        "outputId": "5df92b59-a0e5-4c50-f988-f997d9aa30f9"
      },
      "outputs": [
        {
          "output_type": "stream",
          "name": "stdout",
          "text": [
            "Epoch 1/20\n",
            "30/30 [==============================] - 4s 68ms/step - loss: 0.5466 - accuracy: 0.7750 - val_loss: 0.4203 - val_accuracy: 0.8558\n",
            "Epoch 2/20\n",
            "30/30 [==============================] - 1s 25ms/step - loss: 0.3441 - accuracy: 0.8897 - val_loss: 0.3297 - val_accuracy: 0.8778\n",
            "Epoch 3/20\n",
            "30/30 [==============================] - 1s 25ms/step - loss: 0.2571 - accuracy: 0.9135 - val_loss: 0.2931 - val_accuracy: 0.8846\n",
            "Epoch 4/20\n",
            "30/30 [==============================] - 1s 22ms/step - loss: 0.2073 - accuracy: 0.9285 - val_loss: 0.2768 - val_accuracy: 0.8894\n",
            "Epoch 5/20\n",
            "30/30 [==============================] - 1s 24ms/step - loss: 0.1731 - accuracy: 0.9419 - val_loss: 0.2765 - val_accuracy: 0.8892\n",
            "Epoch 6/20\n",
            "30/30 [==============================] - 1s 23ms/step - loss: 0.1485 - accuracy: 0.9523 - val_loss: 0.2875 - val_accuracy: 0.8850\n",
            "Epoch 7/20\n",
            "30/30 [==============================] - 1s 25ms/step - loss: 0.1310 - accuracy: 0.9564 - val_loss: 0.2904 - val_accuracy: 0.8863\n",
            "Epoch 8/20\n",
            "30/30 [==============================] - 1s 25ms/step - loss: 0.1136 - accuracy: 0.9635 - val_loss: 0.3017 - val_accuracy: 0.8863\n",
            "Epoch 9/20\n",
            "30/30 [==============================] - 1s 23ms/step - loss: 0.0988 - accuracy: 0.9711 - val_loss: 0.3239 - val_accuracy: 0.8820\n",
            "Epoch 10/20\n",
            "30/30 [==============================] - 1s 23ms/step - loss: 0.0885 - accuracy: 0.9747 - val_loss: 0.3364 - val_accuracy: 0.8808\n",
            "Epoch 11/20\n",
            "30/30 [==============================] - 1s 25ms/step - loss: 0.0764 - accuracy: 0.9801 - val_loss: 0.3943 - val_accuracy: 0.8688\n",
            "Epoch 12/20\n",
            "30/30 [==============================] - 1s 23ms/step - loss: 0.0669 - accuracy: 0.9827 - val_loss: 0.3696 - val_accuracy: 0.8798\n",
            "Epoch 13/20\n",
            "30/30 [==============================] - 1s 25ms/step - loss: 0.0590 - accuracy: 0.9850 - val_loss: 0.3914 - val_accuracy: 0.8786\n",
            "Epoch 14/20\n",
            "30/30 [==============================] - 1s 25ms/step - loss: 0.0489 - accuracy: 0.9883 - val_loss: 0.4128 - val_accuracy: 0.8763\n",
            "Epoch 15/20\n",
            "30/30 [==============================] - 1s 28ms/step - loss: 0.0437 - accuracy: 0.9901 - val_loss: 0.4348 - val_accuracy: 0.8747\n",
            "Epoch 16/20\n",
            "30/30 [==============================] - 1s 32ms/step - loss: 0.0370 - accuracy: 0.9926 - val_loss: 0.4531 - val_accuracy: 0.8733\n",
            "Epoch 17/20\n",
            "30/30 [==============================] - 1s 29ms/step - loss: 0.0324 - accuracy: 0.9944 - val_loss: 0.4885 - val_accuracy: 0.8721\n",
            "Epoch 18/20\n",
            "30/30 [==============================] - 1s 23ms/step - loss: 0.0275 - accuracy: 0.9942 - val_loss: 0.5036 - val_accuracy: 0.8722\n",
            "Epoch 19/20\n",
            "30/30 [==============================] - 1s 25ms/step - loss: 0.0243 - accuracy: 0.9949 - val_loss: 0.5313 - val_accuracy: 0.8710\n",
            "Epoch 20/20\n",
            "30/30 [==============================] - 1s 24ms/step - loss: 0.0217 - accuracy: 0.9961 - val_loss: 0.5526 - val_accuracy: 0.8687\n"
          ]
        }
      ],
      "source": [
        "from tensorflow.keras.datasets import imdb\n",
        "(train_data, train_labels), _ = imdb.load_data(num_words=10000)\n",
        "\n",
        "def vectorize_sequences(sequences, dimension=10000):\n",
        "    results = np.zeros((len(sequences), dimension))\n",
        "    for i, sequence in enumerate(sequences):\n",
        "        results[i, sequence] = 1.\n",
        "    return results\n",
        "train_data = vectorize_sequences(train_data)\n",
        "\n",
        "model = keras.Sequential([\n",
        "    layers.Dense(16, activation=\"relu\"),\n",
        "    layers.Dense(16, activation=\"relu\"),\n",
        "    layers.Dense(1, activation=\"sigmoid\")\n",
        "])\n",
        "model.compile(optimizer=\"rmsprop\",\n",
        "              loss=\"binary_crossentropy\",\n",
        "              metrics=[\"accuracy\"])\n",
        "history_original = model.fit(train_data, train_labels,\n",
        "                             epochs=20, batch_size=512, validation_split=0.4)"
      ]
    },
    {
      "cell_type": "markdown",
      "metadata": {
        "id": "arXqXS3ZRuba"
      },
      "source": [
        "**Version of the model with lower capacity**"
      ]
    },
    {
      "cell_type": "code",
      "execution_count": 16,
      "metadata": {
        "id": "N0DycZs3Ruba",
        "colab": {
          "base_uri": "https://localhost:8080/"
        },
        "outputId": "69e48f6c-2c0c-4f0e-eca0-5b9e5e0b9cb9"
      },
      "outputs": [
        {
          "output_type": "stream",
          "name": "stdout",
          "text": [
            "Epoch 1/20\n",
            "30/30 [==============================] - 3s 53ms/step - loss: 0.6419 - accuracy: 0.6142 - val_loss: 0.5818 - val_accuracy: 0.7505\n",
            "Epoch 2/20\n",
            "30/30 [==============================] - 1s 25ms/step - loss: 0.5462 - accuracy: 0.7713 - val_loss: 0.5293 - val_accuracy: 0.7631\n",
            "Epoch 3/20\n",
            "30/30 [==============================] - 1s 25ms/step - loss: 0.4938 - accuracy: 0.8361 - val_loss: 0.4968 - val_accuracy: 0.8189\n",
            "Epoch 4/20\n",
            "30/30 [==============================] - 1s 22ms/step - loss: 0.4556 - accuracy: 0.8775 - val_loss: 0.4755 - val_accuracy: 0.8659\n",
            "Epoch 5/20\n",
            "30/30 [==============================] - 1s 23ms/step - loss: 0.4270 - accuracy: 0.9042 - val_loss: 0.4693 - val_accuracy: 0.8349\n",
            "Epoch 6/20\n",
            "30/30 [==============================] - 1s 24ms/step - loss: 0.4034 - accuracy: 0.9237 - val_loss: 0.4531 - val_accuracy: 0.8659\n",
            "Epoch 7/20\n",
            "30/30 [==============================] - 1s 25ms/step - loss: 0.3838 - accuracy: 0.9379 - val_loss: 0.4556 - val_accuracy: 0.8561\n",
            "Epoch 8/20\n",
            "30/30 [==============================] - 1s 21ms/step - loss: 0.3665 - accuracy: 0.9475 - val_loss: 0.4489 - val_accuracy: 0.8655\n",
            "Epoch 9/20\n",
            "30/30 [==============================] - 1s 28ms/step - loss: 0.3505 - accuracy: 0.9567 - val_loss: 0.4441 - val_accuracy: 0.8721\n",
            "Epoch 10/20\n",
            "30/30 [==============================] - 1s 29ms/step - loss: 0.3367 - accuracy: 0.9643 - val_loss: 0.4787 - val_accuracy: 0.8477\n",
            "Epoch 11/20\n",
            "30/30 [==============================] - 1s 38ms/step - loss: 0.3243 - accuracy: 0.9691 - val_loss: 0.4689 - val_accuracy: 0.8578\n",
            "Epoch 12/20\n",
            "30/30 [==============================] - 1s 43ms/step - loss: 0.3108 - accuracy: 0.9745 - val_loss: 0.4882 - val_accuracy: 0.8496\n",
            "Epoch 13/20\n",
            "30/30 [==============================] - 1s 22ms/step - loss: 0.3004 - accuracy: 0.9771 - val_loss: 0.4877 - val_accuracy: 0.8542\n",
            "Epoch 14/20\n",
            "30/30 [==============================] - 1s 25ms/step - loss: 0.2897 - accuracy: 0.9801 - val_loss: 0.5048 - val_accuracy: 0.8507\n",
            "Epoch 15/20\n",
            "30/30 [==============================] - 1s 25ms/step - loss: 0.2800 - accuracy: 0.9837 - val_loss: 0.4803 - val_accuracy: 0.8644\n",
            "Epoch 16/20\n",
            "30/30 [==============================] - 1s 35ms/step - loss: 0.2703 - accuracy: 0.9854 - val_loss: 0.4528 - val_accuracy: 0.8735\n",
            "Epoch 17/20\n",
            "30/30 [==============================] - 1s 38ms/step - loss: 0.2618 - accuracy: 0.9873 - val_loss: 0.5047 - val_accuracy: 0.8613\n",
            "Epoch 18/20\n",
            "30/30 [==============================] - 1s 25ms/step - loss: 0.2541 - accuracy: 0.9877 - val_loss: 0.4784 - val_accuracy: 0.8699\n",
            "Epoch 19/20\n",
            "30/30 [==============================] - 1s 25ms/step - loss: 0.2456 - accuracy: 0.9897 - val_loss: 0.4764 - val_accuracy: 0.8719\n",
            "Epoch 20/20\n",
            "30/30 [==============================] - 1s 22ms/step - loss: 0.2390 - accuracy: 0.9897 - val_loss: 0.5005 - val_accuracy: 0.8672\n"
          ]
        }
      ],
      "source": [
        "model = keras.Sequential([\n",
        "    layers.Dense(4, activation=\"relu\"),\n",
        "    layers.Dense(4, activation=\"relu\"),\n",
        "    layers.Dense(1, activation=\"sigmoid\")\n",
        "])\n",
        "model.compile(optimizer=\"rmsprop\",\n",
        "              loss=\"binary_crossentropy\",\n",
        "              metrics=[\"accuracy\"])\n",
        "history_smaller_model = model.fit(\n",
        "    train_data, train_labels,\n",
        "    epochs=20, batch_size=512, validation_split=0.4)"
      ]
    },
    {
      "cell_type": "markdown",
      "metadata": {
        "id": "a7aX58XeRuba"
      },
      "source": [
        "**Version of the model with higher capacity**"
      ]
    },
    {
      "cell_type": "code",
      "execution_count": 17,
      "metadata": {
        "id": "0SR-SFrNRuba",
        "colab": {
          "base_uri": "https://localhost:8080/"
        },
        "outputId": "76084d39-405f-481a-b20d-32bc0fe74420"
      },
      "outputs": [
        {
          "output_type": "stream",
          "name": "stdout",
          "text": [
            "Epoch 1/20\n",
            "30/30 [==============================] - 3s 58ms/step - loss: 0.5668 - accuracy: 0.7265 - val_loss: 0.5015 - val_accuracy: 0.7534\n",
            "Epoch 2/20\n",
            "30/30 [==============================] - 1s 29ms/step - loss: 0.3216 - accuracy: 0.8698 - val_loss: 0.2862 - val_accuracy: 0.8829\n",
            "Epoch 3/20\n",
            "30/30 [==============================] - 1s 28ms/step - loss: 0.2419 - accuracy: 0.9041 - val_loss: 0.2876 - val_accuracy: 0.8833\n",
            "Epoch 4/20\n",
            "30/30 [==============================] - 1s 27ms/step - loss: 0.1883 - accuracy: 0.9251 - val_loss: 0.2869 - val_accuracy: 0.8847\n",
            "Epoch 5/20\n",
            "30/30 [==============================] - 1s 27ms/step - loss: 0.1432 - accuracy: 0.9445 - val_loss: 0.2902 - val_accuracy: 0.8891\n",
            "Epoch 6/20\n",
            "30/30 [==============================] - 1s 27ms/step - loss: 0.1166 - accuracy: 0.9555 - val_loss: 0.3011 - val_accuracy: 0.8897\n",
            "Epoch 7/20\n",
            "30/30 [==============================] - 1s 28ms/step - loss: 0.0840 - accuracy: 0.9720 - val_loss: 0.3497 - val_accuracy: 0.8872\n",
            "Epoch 8/20\n",
            "30/30 [==============================] - 1s 28ms/step - loss: 0.0587 - accuracy: 0.9819 - val_loss: 0.3620 - val_accuracy: 0.8866\n",
            "Epoch 9/20\n",
            "30/30 [==============================] - 1s 29ms/step - loss: 0.0578 - accuracy: 0.9821 - val_loss: 0.3361 - val_accuracy: 0.8855\n",
            "Epoch 10/20\n",
            "30/30 [==============================] - 1s 34ms/step - loss: 0.0111 - accuracy: 0.9987 - val_loss: 0.4691 - val_accuracy: 0.8823\n",
            "Epoch 11/20\n",
            "30/30 [==============================] - 1s 50ms/step - loss: 0.0817 - accuracy: 0.9812 - val_loss: 0.3899 - val_accuracy: 0.8843\n",
            "Epoch 12/20\n",
            "30/30 [==============================] - 1s 35ms/step - loss: 0.0056 - accuracy: 0.9997 - val_loss: 0.4937 - val_accuracy: 0.8835\n",
            "Epoch 13/20\n",
            "30/30 [==============================] - 1s 29ms/step - loss: 0.0041 - accuracy: 0.9993 - val_loss: 1.2371 - val_accuracy: 0.7824\n",
            "Epoch 14/20\n",
            "30/30 [==============================] - 1s 28ms/step - loss: 0.0564 - accuracy: 0.9863 - val_loss: 0.4854 - val_accuracy: 0.8832\n",
            "Epoch 15/20\n",
            "30/30 [==============================] - 1s 29ms/step - loss: 0.0017 - accuracy: 1.0000 - val_loss: 0.5672 - val_accuracy: 0.8835\n",
            "Epoch 16/20\n",
            "30/30 [==============================] - 1s 28ms/step - loss: 9.2221e-04 - accuracy: 1.0000 - val_loss: 0.6237 - val_accuracy: 0.8827\n",
            "Epoch 17/20\n",
            "30/30 [==============================] - 1s 27ms/step - loss: 5.1903e-04 - accuracy: 1.0000 - val_loss: 0.6630 - val_accuracy: 0.8831\n",
            "Epoch 18/20\n",
            "30/30 [==============================] - 1s 28ms/step - loss: 3.5347e-04 - accuracy: 1.0000 - val_loss: 0.6936 - val_accuracy: 0.8825\n",
            "Epoch 19/20\n",
            "30/30 [==============================] - 1s 29ms/step - loss: 2.5932e-04 - accuracy: 1.0000 - val_loss: 0.7135 - val_accuracy: 0.8824\n",
            "Epoch 20/20\n",
            "30/30 [==============================] - 1s 27ms/step - loss: 2.0116e-04 - accuracy: 1.0000 - val_loss: 0.7322 - val_accuracy: 0.8819\n"
          ]
        }
      ],
      "source": [
        "model = keras.Sequential([\n",
        "    layers.Dense(512, activation=\"relu\"),\n",
        "    layers.Dense(512, activation=\"relu\"),\n",
        "    layers.Dense(1, activation=\"sigmoid\")\n",
        "])\n",
        "model.compile(optimizer=\"rmsprop\",\n",
        "              loss=\"binary_crossentropy\",\n",
        "              metrics=[\"accuracy\"])\n",
        "history_larger_model = model.fit(\n",
        "    train_data, train_labels,\n",
        "    epochs=20, batch_size=512, validation_split=0.4)"
      ]
    },
    {
      "cell_type": "markdown",
      "metadata": {
        "id": "cd5leXfNRuba"
      },
      "source": [
        "#### Adding weight regularization"
      ]
    },
    {
      "cell_type": "markdown",
      "metadata": {
        "id": "JNhi1Ly_Ruba"
      },
      "source": [
        "**Adding L2 weight regularization to the model**"
      ]
    },
    {
      "cell_type": "code",
      "execution_count": 26,
      "metadata": {
        "id": "57IBgtANRuba",
        "colab": {
          "base_uri": "https://localhost:8080/"
        },
        "outputId": "0feae43a-34ae-422d-df20-344ca2f45b92"
      },
      "outputs": [
        {
          "output_type": "stream",
          "name": "stdout",
          "text": [
            "Epoch 1/20\n",
            "30/30 [==============================] - 3s 57ms/step - loss: 0.6066 - accuracy: 0.7861 - val_loss: 0.4803 - val_accuracy: 0.8602\n",
            "Epoch 2/20\n",
            "30/30 [==============================] - 1s 26ms/step - loss: 0.4098 - accuracy: 0.8884 - val_loss: 0.3946 - val_accuracy: 0.8804\n",
            "Epoch 3/20\n",
            "30/30 [==============================] - 1s 23ms/step - loss: 0.3374 - accuracy: 0.9100 - val_loss: 0.3731 - val_accuracy: 0.8827\n",
            "Epoch 4/20\n",
            "30/30 [==============================] - 1s 23ms/step - loss: 0.2990 - accuracy: 0.9242 - val_loss: 0.3643 - val_accuracy: 0.8831\n",
            "Epoch 5/20\n",
            "30/30 [==============================] - 1s 23ms/step - loss: 0.2784 - accuracy: 0.9314 - val_loss: 0.3539 - val_accuracy: 0.8875\n",
            "Epoch 6/20\n",
            "30/30 [==============================] - 1s 23ms/step - loss: 0.2597 - accuracy: 0.9381 - val_loss: 0.3604 - val_accuracy: 0.8843\n",
            "Epoch 7/20\n",
            "30/30 [==============================] - 1s 23ms/step - loss: 0.2499 - accuracy: 0.9421 - val_loss: 0.3937 - val_accuracy: 0.8706\n",
            "Epoch 8/20\n",
            "30/30 [==============================] - 1s 22ms/step - loss: 0.2422 - accuracy: 0.9443 - val_loss: 0.3916 - val_accuracy: 0.8749\n",
            "Epoch 9/20\n",
            "30/30 [==============================] - 1s 24ms/step - loss: 0.2325 - accuracy: 0.9489 - val_loss: 0.3904 - val_accuracy: 0.8750\n",
            "Epoch 10/20\n",
            "30/30 [==============================] - 1s 22ms/step - loss: 0.2325 - accuracy: 0.9473 - val_loss: 0.3760 - val_accuracy: 0.8811\n",
            "Epoch 11/20\n",
            "30/30 [==============================] - 1s 25ms/step - loss: 0.2218 - accuracy: 0.9538 - val_loss: 0.4079 - val_accuracy: 0.8720\n",
            "Epoch 12/20\n",
            "30/30 [==============================] - 1s 33ms/step - loss: 0.2197 - accuracy: 0.9529 - val_loss: 0.3857 - val_accuracy: 0.8785\n",
            "Epoch 13/20\n",
            "30/30 [==============================] - 1s 44ms/step - loss: 0.2181 - accuracy: 0.9535 - val_loss: 0.4220 - val_accuracy: 0.8681\n",
            "Epoch 14/20\n",
            "30/30 [==============================] - 1s 26ms/step - loss: 0.2095 - accuracy: 0.9595 - val_loss: 0.3923 - val_accuracy: 0.8787\n",
            "Epoch 15/20\n",
            "30/30 [==============================] - 1s 25ms/step - loss: 0.2137 - accuracy: 0.9538 - val_loss: 0.3960 - val_accuracy: 0.8776\n",
            "Epoch 16/20\n",
            "30/30 [==============================] - 1s 23ms/step - loss: 0.2096 - accuracy: 0.9574 - val_loss: 0.3998 - val_accuracy: 0.8783\n",
            "Epoch 17/20\n",
            "30/30 [==============================] - 1s 24ms/step - loss: 0.2024 - accuracy: 0.9607 - val_loss: 0.4037 - val_accuracy: 0.8774\n",
            "Epoch 18/20\n",
            "30/30 [==============================] - 1s 26ms/step - loss: 0.2028 - accuracy: 0.9598 - val_loss: 0.4253 - val_accuracy: 0.8712\n",
            "Epoch 19/20\n",
            "30/30 [==============================] - 1s 24ms/step - loss: 0.2013 - accuracy: 0.9595 - val_loss: 0.4464 - val_accuracy: 0.8700\n",
            "Epoch 20/20\n",
            "30/30 [==============================] - 1s 22ms/step - loss: 0.1993 - accuracy: 0.9603 - val_loss: 0.4131 - val_accuracy: 0.8744\n"
          ]
        }
      ],
      "source": [
        "from tensorflow.keras import regularizers\n",
        "model = keras.Sequential([\n",
        "    layers.Dense(16,\n",
        "                 kernel_regularizer=regularizers.l2(0.002),\n",
        "                 activation=\"relu\"),\n",
        "    layers.Dense(16,\n",
        "                 kernel_regularizer=regularizers.l2(0.002),\n",
        "                 activation=\"relu\"),\n",
        "    layers.Dense(1, activation=\"sigmoid\")\n",
        "])\n",
        "model.compile(optimizer=\"rmsprop\",\n",
        "              loss=\"binary_crossentropy\",\n",
        "              metrics=[\"accuracy\"])\n",
        "history_l2_reg = model.fit(\n",
        "    train_data, train_labels,\n",
        "    epochs=20, batch_size=512, validation_split=0.4)"
      ]
    },
    {
      "cell_type": "markdown",
      "metadata": {
        "id": "5FVWtySYRubb"
      },
      "source": [
        "**Different weight regularizers available in Keras**"
      ]
    },
    {
      "cell_type": "code",
      "execution_count": 27,
      "metadata": {
        "id": "TZ589UP7Rubb",
        "colab": {
          "base_uri": "https://localhost:8080/"
        },
        "outputId": "b3358f72-cdb0-4361-bfff-26effa7ad0e6"
      },
      "outputs": [
        {
          "output_type": "execute_result",
          "data": {
            "text/plain": [
              "<keras.regularizers.L1L2 at 0x7f83d54866a0>"
            ]
          },
          "metadata": {},
          "execution_count": 27
        }
      ],
      "source": [
        "from tensorflow.keras import regularizers\n",
        "regularizers.l1(0.001)\n",
        "regularizers.l1_l2(l1=0.001, l2=0.001)"
      ]
    },
    {
      "cell_type": "markdown",
      "metadata": {
        "id": "mz97WJA-Rubb"
      },
      "source": [
        "#### Adding dropout"
      ]
    },
    {
      "cell_type": "markdown",
      "metadata": {
        "id": "BBQnPiYeRubb"
      },
      "source": [
        "**Adding dropout to the IMDB model**"
      ]
    },
    {
      "cell_type": "code",
      "execution_count": 21,
      "metadata": {
        "id": "-W5YvnMiRubb",
        "colab": {
          "base_uri": "https://localhost:8080/"
        },
        "outputId": "6a018010-4685-45a8-f270-746885f234c3"
      },
      "outputs": [
        {
          "output_type": "stream",
          "name": "stdout",
          "text": [
            "Epoch 1/20\n",
            "30/30 [==============================] - 3s 64ms/step - loss: 0.6291 - accuracy: 0.6412 - val_loss: 0.5148 - val_accuracy: 0.8230\n",
            "Epoch 2/20\n",
            "30/30 [==============================] - 1s 43ms/step - loss: 0.5103 - accuracy: 0.7682 - val_loss: 0.4214 - val_accuracy: 0.8730\n",
            "Epoch 3/20\n",
            "30/30 [==============================] - 1s 23ms/step - loss: 0.4327 - accuracy: 0.8247 - val_loss: 0.3545 - val_accuracy: 0.8733\n",
            "Epoch 4/20\n",
            "30/30 [==============================] - 1s 22ms/step - loss: 0.3814 - accuracy: 0.8535 - val_loss: 0.3172 - val_accuracy: 0.8826\n",
            "Epoch 5/20\n",
            "30/30 [==============================] - 1s 25ms/step - loss: 0.3327 - accuracy: 0.8759 - val_loss: 0.2941 - val_accuracy: 0.8888\n",
            "Epoch 6/20\n",
            "30/30 [==============================] - 1s 26ms/step - loss: 0.2941 - accuracy: 0.8987 - val_loss: 0.2771 - val_accuracy: 0.8915\n",
            "Epoch 7/20\n",
            "30/30 [==============================] - 1s 23ms/step - loss: 0.2639 - accuracy: 0.9071 - val_loss: 0.2763 - val_accuracy: 0.8925\n",
            "Epoch 8/20\n",
            "30/30 [==============================] - 1s 26ms/step - loss: 0.2378 - accuracy: 0.9194 - val_loss: 0.2793 - val_accuracy: 0.8896\n",
            "Epoch 9/20\n",
            "30/30 [==============================] - 1s 23ms/step - loss: 0.2150 - accuracy: 0.9316 - val_loss: 0.2901 - val_accuracy: 0.8899\n",
            "Epoch 10/20\n",
            "30/30 [==============================] - 1s 25ms/step - loss: 0.1908 - accuracy: 0.9372 - val_loss: 0.2915 - val_accuracy: 0.8908\n",
            "Epoch 11/20\n",
            "30/30 [==============================] - 1s 24ms/step - loss: 0.1810 - accuracy: 0.9414 - val_loss: 0.3188 - val_accuracy: 0.8877\n",
            "Epoch 12/20\n",
            "30/30 [==============================] - 1s 26ms/step - loss: 0.1612 - accuracy: 0.9469 - val_loss: 0.3294 - val_accuracy: 0.8879\n",
            "Epoch 13/20\n",
            "30/30 [==============================] - 1s 23ms/step - loss: 0.1506 - accuracy: 0.9511 - val_loss: 0.3504 - val_accuracy: 0.8886\n",
            "Epoch 14/20\n",
            "30/30 [==============================] - 1s 26ms/step - loss: 0.1383 - accuracy: 0.9547 - val_loss: 0.3603 - val_accuracy: 0.8860\n",
            "Epoch 15/20\n",
            "30/30 [==============================] - 1s 23ms/step - loss: 0.1237 - accuracy: 0.9589 - val_loss: 0.3830 - val_accuracy: 0.8853\n",
            "Epoch 16/20\n",
            "30/30 [==============================] - 1s 29ms/step - loss: 0.1159 - accuracy: 0.9608 - val_loss: 0.4288 - val_accuracy: 0.8832\n",
            "Epoch 17/20\n",
            "30/30 [==============================] - 1s 33ms/step - loss: 0.1121 - accuracy: 0.9617 - val_loss: 0.4323 - val_accuracy: 0.8860\n",
            "Epoch 18/20\n",
            "30/30 [==============================] - 1s 31ms/step - loss: 0.1045 - accuracy: 0.9643 - val_loss: 0.4768 - val_accuracy: 0.8881\n",
            "Epoch 19/20\n",
            "30/30 [==============================] - 1s 22ms/step - loss: 0.1037 - accuracy: 0.9627 - val_loss: 0.4693 - val_accuracy: 0.8845\n",
            "Epoch 20/20\n",
            "30/30 [==============================] - 1s 25ms/step - loss: 0.0916 - accuracy: 0.9672 - val_loss: 0.5038 - val_accuracy: 0.8838\n"
          ]
        }
      ],
      "source": [
        "model = keras.Sequential([\n",
        "    layers.Dense(16, activation=\"relu\"),\n",
        "    layers.Dropout(0.5),\n",
        "    layers.Dense(16, activation=\"relu\"),\n",
        "    layers.Dropout(0.5),\n",
        "    layers.Dense(1, activation=\"sigmoid\")\n",
        "])\n",
        "model.compile(optimizer=\"rmsprop\",\n",
        "              loss=\"binary_crossentropy\",\n",
        "              metrics=[\"accuracy\"])\n",
        "history_dropout = model.fit(\n",
        "    train_data, train_labels,\n",
        "    epochs=20, batch_size=512, validation_split=0.4)"
      ]
    },
    {
      "cell_type": "code",
      "source": [
        "model = keras.Sequential([\n",
        "    layers.Dense(16, activation=\"relu\"),\n",
        "    layers.Dense(16, activation=\"relu\"),\n",
        "    layers.Dense(1, activation=\"sigmoid\")\n",
        "])\n",
        "model.compile(optimizer=\"rmsprop\",\n",
        "              loss=\"binary_crossentropy\",\n",
        "              metrics=[\"accuracy\"])\n",
        "history_origin = model.fit(\n",
        "    train_data, train_labels,\n",
        "    epochs=20, batch_size=512, validation_split=0.4)"
      ],
      "metadata": {
        "colab": {
          "base_uri": "https://localhost:8080/"
        },
        "id": "4YskUPyWOjUb",
        "outputId": "53dff674-764f-4567-b3e0-f4abf7747d3b"
      },
      "execution_count": 18,
      "outputs": [
        {
          "output_type": "stream",
          "name": "stdout",
          "text": [
            "Epoch 1/20\n",
            "30/30 [==============================] - 3s 60ms/step - loss: 0.5340 - accuracy: 0.7769 - val_loss: 0.4139 - val_accuracy: 0.8515\n",
            "Epoch 2/20\n",
            "30/30 [==============================] - 1s 26ms/step - loss: 0.3319 - accuracy: 0.8923 - val_loss: 0.3186 - val_accuracy: 0.8829\n",
            "Epoch 3/20\n",
            "30/30 [==============================] - 1s 23ms/step - loss: 0.2516 - accuracy: 0.9157 - val_loss: 0.2879 - val_accuracy: 0.8876\n",
            "Epoch 4/20\n",
            "30/30 [==============================] - 1s 23ms/step - loss: 0.2008 - accuracy: 0.9337 - val_loss: 0.2744 - val_accuracy: 0.8908\n",
            "Epoch 5/20\n",
            "30/30 [==============================] - 1s 23ms/step - loss: 0.1685 - accuracy: 0.9446 - val_loss: 0.2762 - val_accuracy: 0.8896\n",
            "Epoch 6/20\n",
            "30/30 [==============================] - 1s 24ms/step - loss: 0.1449 - accuracy: 0.9524 - val_loss: 0.2880 - val_accuracy: 0.8856\n",
            "Epoch 7/20\n",
            "30/30 [==============================] - 1s 25ms/step - loss: 0.1242 - accuracy: 0.9599 - val_loss: 0.3005 - val_accuracy: 0.8845\n",
            "Epoch 8/20\n",
            "30/30 [==============================] - 1s 23ms/step - loss: 0.1066 - accuracy: 0.9679 - val_loss: 0.3109 - val_accuracy: 0.8843\n",
            "Epoch 9/20\n",
            "30/30 [==============================] - 1s 23ms/step - loss: 0.0952 - accuracy: 0.9703 - val_loss: 0.3270 - val_accuracy: 0.8837\n",
            "Epoch 10/20\n",
            "30/30 [==============================] - 1s 23ms/step - loss: 0.0804 - accuracy: 0.9775 - val_loss: 0.3456 - val_accuracy: 0.8811\n",
            "Epoch 11/20\n",
            "30/30 [==============================] - 1s 31ms/step - loss: 0.0708 - accuracy: 0.9806 - val_loss: 0.3705 - val_accuracy: 0.8789\n",
            "Epoch 12/20\n",
            "30/30 [==============================] - 1s 31ms/step - loss: 0.0596 - accuracy: 0.9850 - val_loss: 0.3966 - val_accuracy: 0.8751\n",
            "Epoch 13/20\n",
            "30/30 [==============================] - 1s 23ms/step - loss: 0.0507 - accuracy: 0.9887 - val_loss: 0.4080 - val_accuracy: 0.8744\n",
            "Epoch 14/20\n",
            "30/30 [==============================] - 1s 28ms/step - loss: 0.0457 - accuracy: 0.9894 - val_loss: 0.4259 - val_accuracy: 0.8765\n",
            "Epoch 15/20\n",
            "30/30 [==============================] - 1s 28ms/step - loss: 0.0377 - accuracy: 0.9924 - val_loss: 0.4480 - val_accuracy: 0.8746\n",
            "Epoch 16/20\n",
            "30/30 [==============================] - 1s 40ms/step - loss: 0.0331 - accuracy: 0.9930 - val_loss: 0.4889 - val_accuracy: 0.8705\n",
            "Epoch 17/20\n",
            "30/30 [==============================] - 1s 23ms/step - loss: 0.0282 - accuracy: 0.9945 - val_loss: 0.5005 - val_accuracy: 0.8721\n",
            "Epoch 18/20\n",
            "30/30 [==============================] - 1s 22ms/step - loss: 0.0246 - accuracy: 0.9952 - val_loss: 0.5195 - val_accuracy: 0.8731\n",
            "Epoch 19/20\n",
            "30/30 [==============================] - 1s 25ms/step - loss: 0.0202 - accuracy: 0.9968 - val_loss: 0.5622 - val_accuracy: 0.8698\n",
            "Epoch 20/20\n",
            "30/30 [==============================] - 1s 24ms/step - loss: 0.0173 - accuracy: 0.9977 - val_loss: 0.6552 - val_accuracy: 0.8575\n"
          ]
        }
      ]
    },
    {
      "cell_type": "code",
      "source": [
        "import matplotlib.pyplot as plt\n",
        "Dropout_val_loss = history_dropout.history[\"val_loss\"]\n",
        "epochs = range(1, 21)\n",
        "plt.plot(epochs, Dropout_val_loss, \"b--\",\n",
        "         label=\"Dropout Validation loss\")\n",
        "Origin_val_loss = history_origin.history[\"val_loss\"]\n",
        "plt.plot(epochs, Origin_val_loss, \"r--\",\n",
        "         label=\"Original Validation loss\")\n",
        "plt.title(\"Compare Effect of dropout and original on validation loss\")\n",
        "plt.xlabel(\"Epochs\")\n",
        "plt.ylabel(\"Loss\")\n",
        "plt.legend()\n",
        "\n"
      ],
      "metadata": {
        "colab": {
          "base_uri": "https://localhost:8080/",
          "height": 490
        },
        "id": "WAexn6ClNKRR",
        "outputId": "90812981-a204-4794-e16f-752b2d9e12a7"
      },
      "execution_count": 22,
      "outputs": [
        {
          "output_type": "execute_result",
          "data": {
            "text/plain": [
              "<matplotlib.legend.Legend at 0x7fe3b5b9acd0>"
            ]
          },
          "metadata": {},
          "execution_count": 22
        },
        {
          "output_type": "display_data",
          "data": {
            "text/plain": [
              "<Figure size 640x480 with 1 Axes>"
            ],
            "image/png": "[encoded data removed]"
          },
          "metadata": {}
        }
      ]
    },
    {
      "cell_type": "markdown",
      "metadata": {
        "id": "G2CP9oqZRubb"
      },
      "source": [
        "## Summary"
      ]
    }
  ],
  "metadata": {
    "colab": {
      "provenance": [],
      "include_colab_link": true
    },
    "kernelspec": {
      "display_name": "Python 3",
      "language": "python",
      "name": "python3"
    },
    "language_info": {
      "codemirror_mode": {
        "name": "ipython",
        "version": 3
      },
      "file_extension": ".py",
      "mimetype": "text/x-python",
      "name": "python",
      "nbconvert_exporter": "python",
      "pygments_lexer": "ipython3",
      "version": "3.7.0"
    },
    "accelerator": "GPU",
    "gpuClass": "standard"
  },
  "nbformat": 4,
  "nbformat_minor": 0
}