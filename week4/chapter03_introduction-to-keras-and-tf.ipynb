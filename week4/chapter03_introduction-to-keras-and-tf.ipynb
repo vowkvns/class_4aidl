{
  "cells": [
    {
      "cell_type": "markdown",
      "metadata": {
        "id": "0pBy0hyh0XHb"
      },
      "source": [
        "This is a companion notebook for the book [Deep Learning with Python, Second Edition](https://www.manning.com/books/deep-learning-with-python-second-edition?a_aid=keras&a_bid=76564dff). For readability, it only contains runnable code blocks and section titles, and omits everything else in the book: text paragraphs, figures, and pseudocode.\n",
        "\n",
        "**If you want to be able to follow what's going on, I recommend reading the notebook side by side with your copy of the book.**\n",
        "\n",
        "This notebook was generated for TensorFlow 2.6."
      ]
    },
    {
      "cell_type": "markdown",
      "metadata": {
        "id": "_HwXGapU0XHd"
      },
      "source": [
        "# Introduction to Keras and TensorFlow"
      ]
    },
    {
      "cell_type": "markdown",
      "metadata": {
        "id": "tFXpg5fY0XHe"
      },
      "source": [
        "## What's TensorFlow?"
      ]
    },
    {
      "cell_type": "markdown",
      "metadata": {
        "id": "EPqLN2WO0XHe"
      },
      "source": [
        "## What's Keras?"
      ]
    },
    {
      "cell_type": "markdown",
      "metadata": {
        "id": "Zvr5m70A0XHe"
      },
      "source": [
        "## Keras and TensorFlow: A brief history"
      ]
    },
    {
      "cell_type": "markdown",
      "metadata": {
        "id": "TUUoGJzX0XHe"
      },
      "source": [
        "## Setting up a deep-learning workspace"
      ]
    },
    {
      "cell_type": "markdown",
      "metadata": {
        "id": "0K14wK1L0XHf"
      },
      "source": [
        "### Jupyter notebooks: The preferred way to run deep-learning experiments"
      ]
    },
    {
      "cell_type": "markdown",
      "metadata": {
        "id": "zr5SLETU0XHf"
      },
      "source": [
        "### Using Colaboratory"
      ]
    },
    {
      "cell_type": "markdown",
      "metadata": {
        "id": "Kb2EBjQO0XHf"
      },
      "source": [
        "#### First steps with Colaboratory"
      ]
    },
    {
      "cell_type": "markdown",
      "metadata": {
        "id": "iT2iU67n0XHf"
      },
      "source": [
        "#### Installing packages with pip"
      ]
    },
    {
      "cell_type": "markdown",
      "metadata": {
        "id": "OwHmBaPQ0XHf"
      },
      "source": [
        "#### Using the GPU runtime"
      ]
    },
    {
      "cell_type": "markdown",
      "metadata": {
        "id": "A69ye7n_0XHg"
      },
      "source": [
        "## First steps with TensorFlow"
      ]
    },
    {
      "cell_type": "markdown",
      "metadata": {
        "id": "w6q4XmeG0XHg"
      },
      "source": [
        "#### Constant tensors and variables"
      ]
    },
    {
      "cell_type": "markdown",
      "metadata": {
        "id": "-t0CbD6v0XHg"
      },
      "source": [
        "**All-ones or all-zeros tensors**"
      ]
    },
    {
      "cell_type": "code",
      "execution_count": 2,
      "metadata": {
        "id": "gzeYNT6G0XHg",
        "outputId": "84ab93fb-fa43-47eb-bf7f-7623895444d9",
        "colab": {
          "base_uri": "https://localhost:8080/"
        }
      },
      "outputs": [
        {
          "output_type": "stream",
          "name": "stdout",
          "text": [
            "tf.Tensor(\n",
            "[[1.]\n",
            " [1.]], shape=(2, 1), dtype=float32)\n"
          ]
        }
      ],
      "source": [
        "import tensorflow as tf\n",
        "x = tf.ones(shape=(2, 1))\n",
        "print(x)"
      ]
    },
    {
      "cell_type": "code",
      "execution_count": 3,
      "metadata": {
        "id": "3pzefP5y0XHh",
        "outputId": "d34becb0-2433-4537-eeaa-d4b797b0f05b",
        "colab": {
          "base_uri": "https://localhost:8080/"
        }
      },
      "outputs": [
        {
          "output_type": "stream",
          "name": "stdout",
          "text": [
            "tf.Tensor(\n",
            "[[0.]\n",
            " [0.]], shape=(2, 1), dtype=float32)\n"
          ]
        }
      ],
      "source": [
        "x = tf.zeros(shape=(2, 1))\n",
        "print(x)"
      ]
    },
    {
      "cell_type": "markdown",
      "metadata": {
        "id": "lHYYiLz70XHh"
      },
      "source": [
        "**Random tensors**"
      ]
    },
    {
      "cell_type": "code",
      "execution_count": null,
      "metadata": {
        "id": "G_r6uIII0XHh"
      },
      "outputs": [],
      "source": [
        "x = tf.random.normal(shape=(3, 1), mean=0., stddev=1.)\n",
        "print(x)"
      ]
    },
    {
      "cell_type": "code",
      "execution_count": null,
      "metadata": {
        "id": "s3Feazxr0XHi"
      },
      "outputs": [],
      "source": [
        "x = tf.random.uniform(shape=(3, 1), minval=0., maxval=1.)\n",
        "print(x)"
      ]
    },
    {
      "cell_type": "markdown",
      "metadata": {
        "id": "HnesD0qD0XHi"
      },
      "source": [
        "**NumPy arrays are assignable**"
      ]
    },
    {
      "cell_type": "code",
      "execution_count": 8,
      "metadata": {
        "id": "SMWNMsSW0XHi"
      },
      "outputs": [],
      "source": [
        "import numpy as np\n",
        "x = np.ones(shape=(2, 2))\n",
        "x[0, 0] = 0."
      ]
    },
    {
      "cell_type": "markdown",
      "metadata": {
        "id": "ZRAz2dCc0XHi"
      },
      "source": [
        "**Creating a TensorFlow variable**"
      ]
    },
    {
      "cell_type": "code",
      "execution_count": null,
      "metadata": {
        "id": "g08a8-Zf0XHj"
      },
      "outputs": [],
      "source": [
        "v = tf.Variable(initial_value=tf.random.normal(shape=(3, 1)))\n",
        "print(v)"
      ]
    },
    {
      "cell_type": "markdown",
      "metadata": {
        "id": "28yB5ZoI0XHj"
      },
      "source": [
        "**Assigning a value to a TensorFlow variable**"
      ]
    },
    {
      "cell_type": "code",
      "execution_count": null,
      "metadata": {
        "id": "svBk1XF60XHj"
      },
      "outputs": [],
      "source": [
        "v.assign(tf.ones((3, 1)))"
      ]
    },
    {
      "cell_type": "markdown",
      "metadata": {
        "id": "ql99teg00XHj"
      },
      "source": [
        "**Assigning a value to a subset of a TensorFlow variable**"
      ]
    },
    {
      "cell_type": "code",
      "execution_count": null,
      "metadata": {
        "id": "aDHpVe-30XHj"
      },
      "outputs": [],
      "source": [
        "v[0, 0].assign(3.)"
      ]
    },
    {
      "cell_type": "markdown",
      "metadata": {
        "id": "nsdIn9Oi0XHk"
      },
      "source": [
        "**Using `assign_add`**"
      ]
    },
    {
      "cell_type": "code",
      "execution_count": null,
      "metadata": {
        "id": "kGvj8Kn_0XHk"
      },
      "outputs": [],
      "source": [
        "v.assign_add(tf.ones((3, 1)))"
      ]
    },
    {
      "cell_type": "markdown",
      "metadata": {
        "id": "Ppvimxht0XHk"
      },
      "source": [
        "#### Tensor operations: Doing math in TensorFlow"
      ]
    },
    {
      "cell_type": "markdown",
      "metadata": {
        "id": "yfvow0o_0XHk"
      },
      "source": [
        "**A few basic math operations**"
      ]
    },
    {
      "cell_type": "code",
      "execution_count": null,
      "metadata": {
        "id": "Av3-sVMQ0XHl"
      },
      "outputs": [],
      "source": [
        "a = tf.ones((2, 2))\n",
        "b = tf.square(a)\n",
        "c = tf.sqrt(a)\n",
        "d = b + c\n",
        "e = tf.matmul(a, b)\n",
        "e *= d"
      ]
    },
    {
      "cell_type": "markdown",
      "metadata": {
        "id": "pnXdwFiL0XHl"
      },
      "source": [
        "#### A second look at the GradientTape API"
      ]
    },
    {
      "cell_type": "markdown",
      "metadata": {
        "id": "I4GjUwq80XHl"
      },
      "source": [
        "**Using the `GradientTape`**"
      ]
    },
    {
      "cell_type": "code",
      "execution_count": 4,
      "metadata": {
        "id": "JGF3XkLS0XHl"
      },
      "outputs": [],
      "source": [
        "input_var = tf.Variable(initial_value=3.)\n",
        "with tf.GradientTape() as tape:\n",
        "   result = tf.square(input_var)\n",
        "gradient = tape.gradient(result, input_var)"
      ]
    },
    {
      "cell_type": "markdown",
      "metadata": {
        "id": "yUtXVj3y0XHm"
      },
      "source": [
        "**Using `GradientTape` with constant tensor inputs**"
      ]
    },
    {
      "cell_type": "code",
      "execution_count": 5,
      "metadata": {
        "id": "TP0E7GYP0XHm"
      },
      "outputs": [],
      "source": [
        "input_const = tf.constant(3.)\n",
        "with tf.GradientTape() as tape:\n",
        "   tape.watch(input_const)\n",
        "   result = tf.square(input_const)\n",
        "gradient = tape.gradient(result, input_const)"
      ]
    },
    {
      "cell_type": "markdown",
      "metadata": {
        "id": "PsddMfor0XHm"
      },
      "source": [
        "**Using nested gradient tapes to compute second-order gradients**"
      ]
    },
    {
      "cell_type": "code",
      "execution_count": 6,
      "metadata": {
        "id": "p8PW5t4B0XHm"
      },
      "outputs": [],
      "source": [
        "time = tf.Variable(0.)\n",
        "with tf.GradientTape() as outer_tape:\n",
        "    with tf.GradientTape() as inner_tape:\n",
        "        position =  4.9 * time ** 2\n",
        "    speed = inner_tape.gradient(position, time)\n",
        "acceleration = outer_tape.gradient(speed, time)"
      ]
    },
    {
      "cell_type": "markdown",
      "metadata": {
        "id": "tEzQBNT20XHn"
      },
      "source": [
        "#### An end-to-end example: A linear classifier in pure TensorFlow"
      ]
    },
    {
      "cell_type": "markdown",
      "metadata": {
        "id": "ZmUUEMLd0XHn"
      },
      "source": [
        "**Generating two classes of random points in a 2D plane**"
      ]
    },
    {
      "cell_type": "code",
      "execution_count": 11,
      "metadata": {
        "id": "IpsKfXRR0XHn",
        "outputId": "d863f328-570b-4011-f132-1ee0cdc6ce3c",
        "colab": {
          "base_uri": "https://localhost:8080/"
        }
      },
      "outputs": [
        {
          "output_type": "stream",
          "name": "stderr",
          "text": [
            "<ipython-input-11-c572f7a5902a>:2: RuntimeWarning: covariance is not positive-semidefinite.\n",
            "  negative_samples = np.random.multivariate_normal(\n"
          ]
        }
      ],
      "source": [
        "num_samples_per_class = 500\n",
        "negative_samples = np.random.multivariate_normal(\n",
        "    mean=[2, 3],\n",
        "    cov=[[1, 0.2],[0.5, 1]],\n",
        "    size=num_samples_per_class)\n",
        "positive_samples = np.random.multivariate_normal(\n",
        "    mean=[3, 1],\n",
        "    cov=[[1, 0.5],[0.5, 1]],\n",
        "    size=num_samples_per_class)"
      ]
    },
    {
      "cell_type": "markdown",
      "metadata": {
        "id": "lsoHaGrV0XHn"
      },
      "source": [
        "**Stacking the two classes into an array with shape (2000, 2)**"
      ]
    },
    {
      "cell_type": "code",
      "execution_count": 13,
      "metadata": {
        "id": "JOD1VNBN0XHn"
      },
      "outputs": [],
      "source": [
        "inputs = np.vstack((negative_samples, positive_samples)).astype(np.float32)"
      ]
    },
    {
      "cell_type": "markdown",
      "metadata": {
        "id": "d4xtztkF0XHo"
      },
      "source": [
        "**Generating the corresponding targets (0 and 1)**"
      ]
    },
    {
      "cell_type": "code",
      "execution_count": 14,
      "metadata": {
        "id": "IujhR2770XHo"
      },
      "outputs": [],
      "source": [
        "targets = np.vstack((np.zeros((num_samples_per_class, 1), dtype=\"float32\"),\n",
        "                     np.ones((num_samples_per_class, 1), dtype=\"float32\")))"
      ]
    },
    {
      "cell_type": "markdown",
      "metadata": {
        "id": "EQEfs7_20XHo"
      },
      "source": [
        "**Plotting the two point classes**"
      ]
    },
    {
      "cell_type": "code",
      "execution_count": 29,
      "metadata": {
        "id": "k0T7mF280XHo",
        "outputId": "82f11ec9-58eb-4d34-cab1-2a685b8af000",
        "colab": {
          "base_uri": "https://localhost:8080/",
          "height": 265
        }
      },
      "outputs": [
        {
          "output_type": "display_data",
          "data": {
            "text/plain": [
              "<Figure size 432x288 with 1 Axes>"
            ],
            "image/png": "[encoded data removed]"
          },
          "metadata": {
            "needs_background": "light"
          }
        }
      ],
      "source": [
        "import matplotlib.pyplot as plt\n",
        "plt.scatter(inputs[:, 0], inputs[:, 1], c=targets[:, 0])\n",
        "plt.show()"
      ]
    },
    {
      "cell_type": "markdown",
      "metadata": {
        "id": "662z4Eu10XHo"
      },
      "source": [
        "**Creating the linear classifier variables**"
      ]
    },
    {
      "cell_type": "code",
      "execution_count": 16,
      "metadata": {
        "id": "5cXzUR4S0XHo"
      },
      "outputs": [],
      "source": [
        "input_dim = 2\n",
        "output_dim = 1\n",
        "W = tf.Variable(initial_value=tf.random.uniform(shape=(input_dim, output_dim)))\n",
        "b = tf.Variable(initial_value=tf.zeros(shape=(output_dim,)))"
      ]
    },
    {
      "cell_type": "markdown",
      "metadata": {
        "id": "RPYYZrDt0XHo"
      },
      "source": [
        "**The forward pass function**"
      ]
    },
    {
      "cell_type": "code",
      "execution_count": 17,
      "metadata": {
        "id": "7FwzZ1Bq0XHp"
      },
      "outputs": [],
      "source": [
        "def model(inputs):\n",
        "    return tf.matmul(inputs, W) + b"
      ]
    },
    {
      "cell_type": "markdown",
      "metadata": {
        "id": "22Q9kHLS0XHp"
      },
      "source": [
        "**The mean squared error loss function**"
      ]
    },
    {
      "cell_type": "code",
      "execution_count": 18,
      "metadata": {
        "id": "jX_kqPtQ0XHp"
      },
      "outputs": [],
      "source": [
        "def square_loss(targets, predictions):\n",
        "    per_sample_losses = tf.square(targets - predictions)\n",
        "    return tf.reduce_mean(per_sample_losses)"
      ]
    },
    {
      "cell_type": "markdown",
      "metadata": {
        "id": "_cA6rtS_0XHp"
      },
      "source": [
        "**The training step function**"
      ]
    },
    {
      "cell_type": "code",
      "execution_count": 33,
      "metadata": {
        "id": "kBLptVxf0XHp"
      },
      "outputs": [],
      "source": [
        "learning_rate = 0.045\n",
        "\n",
        "def training_step(inputs, targets):\n",
        "    with tf.GradientTape() as tape:\n",
        "        predictions = model(inputs)\n",
        "        loss = square_loss(targets, predictions)\n",
        "    grad_loss_wrt_W, grad_loss_wrt_b = tape.gradient(loss, [W, b])\n",
        "    W.assign_sub(grad_loss_wrt_W * learning_rate)\n",
        "    b.assign_sub(grad_loss_wrt_b * learning_rate)\n",
        "    return loss"
      ]
    },
    {
      "cell_type": "markdown",
      "metadata": {
        "id": "-4_xm6ny0XHp"
      },
      "source": [
        "**The batch training loop**"
      ]
    },
    {
      "cell_type": "code",
      "execution_count": 34,
      "metadata": {
        "id": "JWafgLJW0XHq",
        "outputId": "baa00e52-4c78-4b7b-e485-177c91ef140d",
        "colab": {
          "base_uri": "https://localhost:8080/"
        }
      },
      "outputs": [
        {
          "output_type": "stream",
          "name": "stdout",
          "text": [
            "Loss at step 0: 0.0827\n",
            "Loss at step 1: 0.0827\n",
            "Loss at step 2: 0.0827\n",
            "Loss at step 3: 0.0827\n",
            "Loss at step 4: 0.0827\n",
            "Loss at step 5: 0.0827\n",
            "Loss at step 6: 0.0827\n",
            "Loss at step 7: 0.0827\n",
            "Loss at step 8: 0.0827\n",
            "Loss at step 9: 0.0827\n",
            "Loss at step 10: 0.0827\n",
            "Loss at step 11: 0.0827\n",
            "Loss at step 12: 0.0827\n",
            "Loss at step 13: 0.0827\n",
            "Loss at step 14: 0.0827\n",
            "Loss at step 15: 0.0826\n",
            "Loss at step 16: 0.0826\n",
            "Loss at step 17: 0.0826\n",
            "Loss at step 18: 0.0826\n",
            "Loss at step 19: 0.0826\n",
            "Loss at step 20: 0.0826\n",
            "Loss at step 21: 0.0826\n",
            "Loss at step 22: 0.0826\n",
            "Loss at step 23: 0.0826\n",
            "Loss at step 24: 0.0826\n",
            "Loss at step 25: 0.0826\n",
            "Loss at step 26: 0.0826\n",
            "Loss at step 27: 0.0826\n",
            "Loss at step 28: 0.0826\n",
            "Loss at step 29: 0.0826\n",
            "Loss at step 30: 0.0826\n",
            "Loss at step 31: 0.0826\n",
            "Loss at step 32: 0.0826\n",
            "Loss at step 33: 0.0826\n",
            "Loss at step 34: 0.0826\n",
            "Loss at step 35: 0.0826\n",
            "Loss at step 36: 0.0826\n",
            "Loss at step 37: 0.0826\n",
            "Loss at step 38: 0.0826\n",
            "Loss at step 39: 0.0826\n"
          ]
        }
      ],
      "source": [
        "for step in range(40):\n",
        "    loss = training_step(inputs, targets)\n",
        "    print(f\"Loss at step {step}: {loss:.4f}\")"
      ]
    },
    {
      "cell_type": "code",
      "execution_count": 35,
      "metadata": {
        "id": "waws64880XHq",
        "outputId": "daa8a712-647d-46eb-d4ef-bb3a45b5dc25",
        "colab": {
          "base_uri": "https://localhost:8080/",
          "height": 265
        }
      },
      "outputs": [
        {
          "output_type": "display_data",
          "data": {
            "text/plain": [
              "<Figure size 432x288 with 1 Axes>"
            ],
            "image/png": "[encoded data removed]"
          },
          "metadata": {
            "needs_background": "light"
          }
        }
      ],
      "source": [
        "predictions = model(inputs)\n",
        "plt.scatter(inputs[:, 0], inputs[:, 1], c=predictions[:, 0] > 0.5)\n",
        "plt.show()"
      ]
    },
    {
      "cell_type": "code",
      "execution_count": 36,
      "metadata": {
        "id": "Zg_n7ulE0XHq",
        "outputId": "6cd7fe76-788d-4023-ec4e-344a5d31b361",
        "colab": {
          "base_uri": "https://localhost:8080/",
          "height": 283
        }
      },
      "outputs": [
        {
          "output_type": "execute_result",
          "data": {
            "text/plain": [
              "<matplotlib.collections.PathCollection at 0x7ff8f1e62370>"
            ]
          },
          "metadata": {},
          "execution_count": 36
        },
        {
          "output_type": "display_data",
          "data": {
            "text/plain": [
              "<Figure size 432x288 with 1 Axes>"
            ],
            "image/png": "[encoded data removed]"
          },
          "metadata": {
            "needs_background": "light"
          }
        }
      ],
      "source": [
        "x = np.linspace(-1, 4, 100)\n",
        "y = - W[0] /  W[1] * x + (0.5 - b) / W[1]\n",
        "plt.plot(x, y, \"-r\")\n",
        "plt.scatter(inputs[:, 0], inputs[:, 1], c=predictions[:, 0] > 0.5)"
      ]
    },
    {
      "cell_type": "markdown",
      "metadata": {
        "id": "OEZDzTTn0XHq"
      },
      "source": [
        "## Anatomy of a neural network: Understanding core Keras APIs"
      ]
    },
    {
      "cell_type": "markdown",
      "metadata": {
        "id": "9_jASEAQ0XHq"
      },
      "source": [
        "### Layers: The building blocks of deep learning"
      ]
    },
    {
      "cell_type": "markdown",
      "metadata": {
        "id": "A2mM9l4g0XHq"
      },
      "source": [
        "#### The base Layer class in Keras"
      ]
    },
    {
      "cell_type": "markdown",
      "metadata": {
        "id": "lxF0jG290XHq"
      },
      "source": [
        "**A `Dense` layer implemented as a `Layer` subclass**"
      ]
    },
    {
      "cell_type": "code",
      "execution_count": 37,
      "metadata": {
        "id": "tVukynjS0XHq"
      },
      "outputs": [],
      "source": [
        "from tensorflow import keras\n",
        "\n",
        "class SimpleDense(keras.layers.Layer):\n",
        "\n",
        "    def __init__(self, units, activation=None):\n",
        "        super().__init__()\n",
        "        self.units = units\n",
        "        self.activation = activation\n",
        "\n",
        "    def build(self, input_shape):\n",
        "        input_dim = input_shape[-1]\n",
        "        self.W = self.add_weight(shape=(input_dim, self.units),\n",
        "                                 initializer=\"random_normal\")\n",
        "        self.b = self.add_weight(shape=(self.units,),\n",
        "                                 initializer=\"zeros\")\n",
        "\n",
        "    def call(self, inputs):\n",
        "        y = tf.matmul(inputs, self.W) + self.b\n",
        "        if self.activation is not None:\n",
        "            y = self.activation(y)\n",
        "        return y"
      ]
    },
    {
      "cell_type": "code",
      "execution_count": null,
      "metadata": {
        "id": "mxK3ODeF0XHr"
      },
      "outputs": [],
      "source": [
        "my_dense = SimpleDense(units=32, activation=tf.nn.relu)\n",
        "input_tensor = tf.ones(shape=(2, 784))\n",
        "output_tensor = my_dense(input_tensor)\n",
        "print(output_tensor.shape)"
      ]
    },
    {
      "cell_type": "markdown",
      "metadata": {
        "id": "LawEkAoZ0XHr"
      },
      "source": [
        "#### Automatic shape inference: Building layers on the fly"
      ]
    },
    {
      "cell_type": "code",
      "execution_count": 38,
      "metadata": {
        "id": "vB5XQivE0XHr"
      },
      "outputs": [],
      "source": [
        "from tensorflow.keras import layers\n",
        "layer = layers.Dense(32, activation=\"relu\")"
      ]
    },
    {
      "cell_type": "code",
      "execution_count": 39,
      "metadata": {
        "id": "ihVFXsLc0XHr"
      },
      "outputs": [],
      "source": [
        "from tensorflow.keras import models\n",
        "from tensorflow.keras import layers\n",
        "model = models.Sequential([\n",
        "    layers.Dense(32, activation=\"relu\"),\n",
        "    layers.Dense(32)\n",
        "])"
      ]
    },
    {
      "cell_type": "code",
      "execution_count": 40,
      "metadata": {
        "id": "0pZ3rvPz0XHr"
      },
      "outputs": [],
      "source": [
        "model = keras.Sequential([\n",
        "    SimpleDense(32, activation=\"relu\"),\n",
        "    SimpleDense(64, activation=\"relu\"),\n",
        "    SimpleDense(32, activation=\"relu\"),\n",
        "    SimpleDense(10, activation=\"softmax\")\n",
        "])"
      ]
    },
    {
      "cell_type": "markdown",
      "metadata": {
        "id": "Xc3As9i70XHr"
      },
      "source": [
        "### From layers to models"
      ]
    },
    {
      "cell_type": "markdown",
      "metadata": {
        "id": "Ul1I0wfa0XHs"
      },
      "source": [
        "### The \"compile\" step: Configuring the learning process"
      ]
    },
    {
      "cell_type": "code",
      "execution_count": 41,
      "metadata": {
        "id": "NrCRUTDo0XHs"
      },
      "outputs": [],
      "source": [
        "model = keras.Sequential([keras.layers.Dense(1)])\n",
        "model.compile(optimizer=\"rmsprop\",\n",
        "              loss=\"mean_squared_error\",\n",
        "              metrics=[\"accuracy\"])"
      ]
    },
    {
      "cell_type": "code",
      "execution_count": 42,
      "metadata": {
        "id": "fUPNM_Si0XHs"
      },
      "outputs": [],
      "source": [
        "model.compile(optimizer=keras.optimizers.RMSprop(),\n",
        "              loss=keras.losses.MeanSquaredError(),\n",
        "              metrics=[keras.metrics.BinaryAccuracy()])"
      ]
    },
    {
      "cell_type": "markdown",
      "metadata": {
        "id": "0qyAxPgZ0XHs"
      },
      "source": [
        "### Picking a loss function"
      ]
    },
    {
      "cell_type": "markdown",
      "metadata": {
        "id": "Aq1pXT6i0XHs"
      },
      "source": [
        "### Understanding the fit() method"
      ]
    },
    {
      "cell_type": "markdown",
      "metadata": {
        "id": "jA9UKOZ70XHs"
      },
      "source": [
        "**Calling `fit()` with NumPy data**"
      ]
    },
    {
      "cell_type": "code",
      "execution_count": 43,
      "metadata": {
        "id": "Cme8-S3j0XHs",
        "outputId": "8b5c3824-2b28-4140-ded5-cb5932b34c8e",
        "colab": {
          "base_uri": "https://localhost:8080/"
        }
      },
      "outputs": [
        {
          "output_type": "stream",
          "name": "stdout",
          "text": [
            "Epoch 1/5\n",
            "8/8 [==============================] - 1s 4ms/step - loss: 7.1538 - binary_accuracy: 0.5010\n",
            "Epoch 2/5\n",
            "8/8 [==============================] - 0s 3ms/step - loss: 6.8244 - binary_accuracy: 0.5010\n",
            "Epoch 3/5\n",
            "8/8 [==============================] - 0s 3ms/step - loss: 6.5753 - binary_accuracy: 0.5010\n",
            "Epoch 4/5\n",
            "8/8 [==============================] - 0s 3ms/step - loss: 6.3474 - binary_accuracy: 0.5010\n",
            "Epoch 5/5\n",
            "8/8 [==============================] - 0s 3ms/step - loss: 6.1300 - binary_accuracy: 0.5010\n"
          ]
        }
      ],
      "source": [
        "history = model.fit(\n",
        "    inputs,\n",
        "    targets,\n",
        "    epochs=5,\n",
        "    batch_size=128\n",
        ")"
      ]
    },
    {
      "cell_type": "code",
      "execution_count": null,
      "metadata": {
        "id": "cF3PP-0b0XHs"
      },
      "outputs": [],
      "source": [
        "history.history"
      ]
    },
    {
      "cell_type": "markdown",
      "metadata": {
        "id": "yiAmm5Mf0XHs"
      },
      "source": [
        "### Monitoring loss and metrics on validation data"
      ]
    },
    {
      "cell_type": "markdown",
      "metadata": {
        "id": "uJOvIjHR0XHt"
      },
      "source": [
        "**Using the `validation_data` argument**"
      ]
    },
    {
      "cell_type": "code",
      "source": [
        "import keras from tensorflow\n",
        "\n",
        "model = keras.Sequential([keras.layers.Dense(1)])\n",
        "model.compile(optimizer=keras.optimizers.RMSprop(learning_rate=0.01),\n",
        "loss=keras.losses.MeanSquaredError(),\n",
        "metrics=[keras.metrics.BinaryAccuracy()])\n",
        "indices_permutation = np.random.permutation(len(inputs))\n",
        "shuffled_inputs = inputs[indices_permutation]\n",
        "shuffled_targets = targets[indices_permutation]\n",
        "num_validation_samples = int(0.3 * len(inputs))\n",
        "val_inputs = shuffled_inputs[:num_validation_samples]\n",
        "val_targets = shuffled_targets[:num_validation_samples]\n",
        "training_inputs = shuffled_inputs[num_validation_samples:]\n",
        "training_targets = shuffled_targets[num_validation_samples:]\n",
        "model.fit(\n",
        "training_inputs,\n",
        "training_targets,\n",
        "epochs=5,\n",
        "batch_size=16,\n",
        "validation_data=(val_inputs, val_targets)\n",
        ")"
      ],
      "metadata": {
        "id": "mG06va2Y46i_",
        "outputId": "78e2fccf-cf49-4627-cb8d-4cb40ff5aa5d",
        "colab": {
          "base_uri": "https://localhost:8080/"
        }
      },
      "execution_count": 44,
      "outputs": [
        {
          "output_type": "stream",
          "name": "stdout",
          "text": [
            "Epoch 1/5\n",
            "44/44 [==============================] - 1s 7ms/step - loss: 0.7841 - binary_accuracy: 0.2286 - val_loss: 0.3039 - val_binary_accuracy: 0.2767\n",
            "Epoch 2/5\n",
            "44/44 [==============================] - 0s 5ms/step - loss: 0.1592 - binary_accuracy: 0.7714 - val_loss: 0.0821 - val_binary_accuracy: 0.9300\n",
            "Epoch 3/5\n",
            "44/44 [==============================] - 0s 4ms/step - loss: 0.0915 - binary_accuracy: 0.9157 - val_loss: 0.0729 - val_binary_accuracy: 0.9433\n",
            "Epoch 4/5\n",
            "44/44 [==============================] - 0s 4ms/step - loss: 0.0896 - binary_accuracy: 0.9143 - val_loss: 0.0729 - val_binary_accuracy: 0.9433\n",
            "Epoch 5/5\n",
            "44/44 [==============================] - 0s 4ms/step - loss: 0.0896 - binary_accuracy: 0.9143 - val_loss: 0.0791 - val_binary_accuracy: 0.9267\n"
          ]
        },
        {
          "output_type": "execute_result",
          "data": {
            "text/plain": [
              "<keras.callbacks.History at 0x7ff8f0323ac0>"
            ]
          },
          "metadata": {},
          "execution_count": 44
        }
      ]
    },
    {
      "cell_type": "code",
      "execution_count": null,
      "metadata": {
        "id": "SKi92tpo0XHt"
      },
      "outputs": [],
      "source": [
        "model = keras.Sequential([keras.layers.Dense(1)])\n",
        "model.compile(optimizer=keras.optimizers.RMSprop(learning_rate=0.1),\n",
        "              loss=keras.losses.MeanSquaredError(),\n",
        "              metrics=[keras.metrics.BinaryAccuracy()])\n",
        "\n",
        "indices_permutation = np.random.permutation(len(inputs))\n",
        "shuffled_inputs = inputs[indices_permutation]\n",
        "shuffled_targets = targets[indices_permutation]\n",
        "\n",
        "num_validation_samples = int(0.3 * len(inputs))\n",
        "val_inputs = shuffled_inputs[:num_validation_samples]\n",
        "val_targets = shuffled_targets[:num_validation_samples]\n",
        "training_inputs = shuffled_inputs[num_validation_samples:]\n",
        "training_targets = shuffled_targets[num_validation_samples:]\n",
        "model.fit(\n",
        "    training_inputs,\n",
        "    training_targets,\n",
        "    epochs=5,\n",
        "    batch_size=16,\n",
        "    validation_data=(val_inputs, val_targets)\n",
        ")"
      ]
    },
    {
      "cell_type": "markdown",
      "metadata": {
        "id": "C10lcJLY0XHt"
      },
      "source": [
        "### Inference: Using a model after training"
      ]
    },
    {
      "cell_type": "code",
      "execution_count": null,
      "metadata": {
        "id": "yT88m7sa0XHt"
      },
      "outputs": [],
      "source": [
        "predictions = model.predict(val_inputs, batch_size=128)\n",
        "print(predictions[:10])"
      ]
    },
    {
      "cell_type": "markdown",
      "metadata": {
        "id": "iAeHVB3a0XHt"
      },
      "source": [
        "## Summary"
      ]
    }
  ],
  "metadata": {
    "colab": {
      "name": "chapter03_introduction-to-keras-and-tf.i",
      "provenance": [],
      "toc_visible": true
    },
    "kernelspec": {
      "display_name": "Python 3",
      "language": "python",
      "name": "python3"
    },
    "language_info": {
      "codemirror_mode": {
        "name": "ipython",
        "version": 3
      },
      "file_extension": ".py",
      "mimetype": "text/x-python",
      "name": "python",
      "nbconvert_exporter": "python",
      "pygments_lexer": "ipython3",
      "version": "3.7.0"
    },
    "accelerator": "GPU",
    "gpuClass": "standard"
  },
  "nbformat": 4,
  "nbformat_minor": 0
}