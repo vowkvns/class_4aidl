{
  "nbformat": 4,
  "nbformat_minor": 0,
  "metadata": {
    "colab": {
      "provenance": [],
      "authorship_tag": "ABX9TyPMExAXzF69RDwuKlzkFaKe",
      "include_colab_link": true
    },
    "kernelspec": {
      "name": "python3",
      "display_name": "Python 3"
    },
    "language_info": {
      "name": "python"
    }
  },
  "cells": [
    {
      "cell_type": "markdown",
      "metadata": {
        "id": "view-in-github",
        "colab_type": "text"
      },
      "source": [
        "<a href=\"https://colab.research.google.com/github/vowkvns/class_4aidl/blob/main/week7/Untitled10.ipynb\" target=\"_parent\"><img src=\"https://colab.research.google.com/assets/colab-badge.svg\" alt=\"Open In Colab\"/></a>"
      ]
    },
    {
      "cell_type": "code",
      "execution_count": null,
      "metadata": {
        "id": "VT_YTmRklp9d"
      },
      "outputs": [],
      "source": [
        "import pandas as pd"
      ]
    },
    {
      "cell_type": "code",
      "source": [
        "!gdown --id 1uAgj40UQKq2bO_OBVEqr0lihB0p2DjTb"
      ],
      "metadata": {
        "id": "iIHWhJtblq8C"
      },
      "execution_count": null,
      "outputs": []
    },
    {
      "cell_type": "code",
      "source": [
        "covid = pd.read_csv('covid19_cases.csv').assign(\n",
        "    dateRep=lambda x: pd.to_datetime(x.dateRep, format='%d/%m/%Y')\n",
        ")"
      ],
      "metadata": {
        "id": "yDzgJgGGltkl"
      },
      "execution_count": null,
      "outputs": []
    },
    {
      "cell_type": "code",
      "source": [
        "covid.head()"
      ],
      "metadata": {
        "id": "AEYQ-w02lvw4"
      },
      "execution_count": null,
      "outputs": []
    },
    {
      "cell_type": "code",
      "source": [
        "covid.head(2)"
      ],
      "metadata": {
        "id": "tMHI5Tjqlyx8"
      },
      "execution_count": null,
      "outputs": []
    },
    {
      "cell_type": "code",
      "source": [
        "covid.set_index('dateRep', inplace=True)"
      ],
      "metadata": {
        "id": "NogpvczDl20Y"
      },
      "execution_count": null,
      "outputs": []
    },
    {
      "cell_type": "code",
      "source": [
        "covid.head(2)"
      ],
      "metadata": {
        "id": "SAfz8urGl2uP"
      },
      "execution_count": null,
      "outputs": []
    },
    {
      "cell_type": "code",
      "source": [
        "covid.countriesAndTerritories.unique().shape[0]"
      ],
      "metadata": {
        "id": "6sdMpYDLl4sC"
      },
      "execution_count": null,
      "outputs": []
    },
    {
      "cell_type": "code",
      "source": [
        "covid_A = covid[covid.countriesAndTerritories.str.startswith('A')]['2020-05':'2020-07']\n",
        "covid_A"
      ],
      "metadata": {
        "id": "wBUEck2al4nH"
      },
      "execution_count": null,
      "outputs": []
    },
    {
      "cell_type": "code",
      "source": [
        "newd = pd.read_csv('processed_Q3.csv').assign(\n",
        "        dateRep=lambda x: pd.to_datetime(x.dateRep) ).set_index('dateRep')\n",
        "covid_A = covid_A.sort_index()\n",
        "covid_wide = covid_A.pivot_table(index='dateRep', columns='countriesAndTerritories', values=['cases', 'deaths'])"
      ],
      "metadata": {
        "id": "PIA3zghOl4kd"
      },
      "execution_count": null,
      "outputs": []
    },
    {
      "cell_type": "code",
      "source": [
        "newd2 = pd.read_csv('processed_covid.csv').assign(\n",
        "        dateRep=lambda x: pd.to_datetime(x.dateRep) ).set_index('dateRep')\n",
        "covid_wide.cases.sum()"
      ],
      "metadata": {
        "id": "Y7-wMWULl4de"
      },
      "execution_count": null,
      "outputs": []
    },
    {
      "cell_type": "code",
      "source": [
        "newd2.sum()"
      ],
      "metadata": {
        "id": "_iQi0wdMl4XF"
      },
      "execution_count": null,
      "outputs": []
    }
  ]
}